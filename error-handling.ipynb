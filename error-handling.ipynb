{
 "cells": [
  {
   "attachments": {},
   "cell_type": "markdown",
   "id": "b3d33efe-854c-4325-9064-f07ed8f5b4e3",
   "metadata": {},
   "source": [
    "# Error Handling"
   ]
  },
  {
   "attachments": {},
   "cell_type": "markdown",
   "id": "0a0fd4d8",
   "metadata": {},
   "source": [
    "Rust 不同于别的语言，使用**枚举**作为错误处理的方式\n",
    "\n",
    "- 枚举`enum`是一种类型，可以包含多个变量之一"
   ]
  },
  {
   "cell_type": "code",
   "execution_count": null,
   "id": "7ff1eb66",
   "metadata": {
    "vscode": {
     "languageId": "rust"
    }
   },
   "outputs": [],
   "source": [
    "enum TrafficLightColor {    // Type\n",
    "    Red,                    // variants\n",
    "    Yellow,\n",
    "    Green,\n",
    "}\n",
    "\n",
    "let current_state = TrafficLightColor::Green;"
   ]
  },
  {
   "attachments": {},
   "cell_type": "markdown",
   "id": "c72b8e45",
   "metadata": {},
   "source": [
    "- Rust: `match`表达式类似于 C/C++/Java 中的 `switch` 语句，但是必须覆盖所有可能的值\n",
    "\n",
    "如果没有全部覆盖，则会报错，如下所示"
   ]
  },
  {
   "cell_type": "code",
   "execution_count": 3,
   "id": "ddfd1c3e",
   "metadata": {
    "vscode": {
     "languageId": "rust"
    }
   },
   "outputs": [
    {
     "ename": "Error",
     "evalue": "non-exhaustive patterns: `TrafficLightColor::Yellow` not covered",
     "output_type": "error",
     "traceback": [
      "\u001b[31m[E0004] Error:\u001b[0m non-exhaustive patterns: `TrafficLightColor::Yellow` not covered",
      "    \u001b[38;5;246m╭\u001b[0m\u001b[38;5;246m─\u001b[0m\u001b[38;5;246m[\u001b[0mcommand_3:1:1\u001b[38;5;246m]\u001b[0m",
      "    \u001b[38;5;246m│\u001b[0m",
      " \u001b[38;5;246m 9 │\u001b[0m \u001b[38;5;249m \u001b[0m\u001b[38;5;249m \u001b[0m\u001b[38;5;249m \u001b[0m\u001b[38;5;249m \u001b[0m\u001b[38;5;249mm\u001b[0m\u001b[38;5;249ma\u001b[0m\u001b[38;5;249mt\u001b[0m\u001b[38;5;249mc\u001b[0m\u001b[38;5;249mh\u001b[0m\u001b[38;5;249m \u001b[0m\u001b[38;5;54ml\u001b[0m\u001b[38;5;54mi\u001b[0m\u001b[38;5;54mg\u001b[0m\u001b[38;5;54mh\u001b[0m\u001b[38;5;54mt\u001b[0m\u001b[38;5;54m_\u001b[0m\u001b[38;5;54ms\u001b[0m\u001b[38;5;54mt\u001b[0m\u001b[38;5;54ma\u001b[0m\u001b[38;5;54mt\u001b[0m\u001b[38;5;54me\u001b[0m\u001b[38;5;249m \u001b[0m\u001b[38;5;249m{\u001b[0m",
      " \u001b[38;5;246m   ·\u001b[0m           \u001b[38;5;54m─\u001b[0m\u001b[38;5;54m─\u001b[0m\u001b[38;5;54m─\u001b[0m\u001b[38;5;54m─\u001b[0m\u001b[38;5;54m─\u001b[0m\u001b[38;5;54m┬\u001b[0m\u001b[38;5;54m─\u001b[0m\u001b[38;5;54m─\u001b[0m\u001b[38;5;54m─\u001b[0m\u001b[38;5;54m─\u001b[0m\u001b[38;5;54m─\u001b[0m  ",
      " \u001b[38;5;246m   ·\u001b[0m                \u001b[38;5;54m╰\u001b[0m\u001b[38;5;54m─\u001b[0m\u001b[38;5;54m─\u001b[0m\u001b[38;5;54m─\u001b[0m\u001b[38;5;54m─\u001b[0m\u001b[38;5;54m─\u001b[0m\u001b[38;5;54m─\u001b[0m\u001b[38;5;54m─\u001b[0m pattern `TrafficLightColor::Yellow` not covered",
      " \u001b[38;5;246m   ·\u001b[0m ",
      " \u001b[38;5;246m11 │\u001b[0m \u001b[38;5;249m \u001b[0m\u001b[38;5;249m \u001b[0m\u001b[38;5;249m \u001b[0m\u001b[38;5;249m \u001b[0m\u001b[38;5;249m \u001b[0m\u001b[38;5;249m \u001b[0m\u001b[38;5;249m \u001b[0m\u001b[38;5;249m \u001b[0m\u001b[38;5;249mT\u001b[0m\u001b[38;5;249mr\u001b[0m\u001b[38;5;249ma\u001b[0m\u001b[38;5;249mf\u001b[0m\u001b[38;5;249mf\u001b[0m\u001b[38;5;249mi\u001b[0m\u001b[38;5;249mc\u001b[0m\u001b[38;5;249mL\u001b[0m\u001b[38;5;249mi\u001b[0m\u001b[38;5;249mg\u001b[0m\u001b[38;5;249mh\u001b[0m\u001b[38;5;249mt\u001b[0m\u001b[38;5;249mC\u001b[0m\u001b[38;5;249mo\u001b[0m\u001b[38;5;249ml\u001b[0m\u001b[38;5;249mo\u001b[0m\u001b[38;5;249mr\u001b[0m\u001b[38;5;249m:\u001b[0m\u001b[38;5;249m:\u001b[0m\u001b[38;5;249mR\u001b[0m\u001b[38;5;249me\u001b[0m\u001b[38;5;249md\u001b[0m\u001b[38;5;249m \u001b[0m\u001b[38;5;249m=\u001b[0m\u001b[38;5;249m>\u001b[0m\u001b[38;5;249m \u001b[0m\u001b[38;5;249mp\u001b[0m\u001b[38;5;249mr\u001b[0m\u001b[38;5;249mi\u001b[0m\u001b[38;5;249mn\u001b[0m\u001b[38;5;249mt\u001b[0m\u001b[38;5;249ml\u001b[0m\u001b[38;5;249mn\u001b[0m\u001b[38;5;249m!\u001b[0m\u001b[38;5;249m(\u001b[0m\u001b[38;5;249m\"\u001b[0m\u001b[38;5;249ms\u001b[0m\u001b[38;5;249mi\u001b[0m\u001b[38;5;249mt\u001b[0m\u001b[38;5;249mt\u001b[0m\u001b[38;5;249mi\u001b[0m\u001b[38;5;249mn\u001b[0m\u001b[38;5;249mg\u001b[0m\u001b[38;5;249m \u001b[0m\u001b[38;5;249ml\u001b[0m\u001b[38;5;249mi\u001b[0m\u001b[38;5;249mk\u001b[0m\u001b[38;5;249me\u001b[0m\u001b[38;5;249m \u001b[0m\u001b[38;5;249ma\u001b[0m\u001b[38;5;249m \u001b[0m\u001b[38;5;249mb\u001b[0m\u001b[38;5;249mo\u001b[0m\u001b[38;5;249mu\u001b[0m\u001b[38;5;249ml\u001b[0m\u001b[38;5;249md\u001b[0m\u001b[38;5;249me\u001b[0m\u001b[38;5;249mr\u001b[0m\u001b[38;5;249m!\u001b[0m\u001b[38;5;249m\"\u001b[0m\u001b[38;5;249m)\u001b[0m\u001b[38;5;249m,\u001b[0m",
      " \u001b[38;5;246m   ·\u001b[0m                                                                      \u001b[38;5;100m│\u001b[0m ",
      " \u001b[38;5;246m   ·\u001b[0m                                                                      \u001b[38;5;100m╰\u001b[0m\u001b[38;5;100m─\u001b[0m help: ensure that all possible cases are being handled by adding a match arm with a wildcard pattern or an explicit pattern as shown: `,",
      "        TrafficLightColor::Yellow => todo!()`",
      "\u001b[38;5;246m────╯\u001b[0m"
     ]
    }
   ],
   "source": [
    "enum TrafficLightColor {    // Type\n",
    "    Red,                    // variants\n",
    "    Yellow,\n",
    "    Green,\n",
    "}\n",
    "\n",
    "\n",
    "fn drive(light_state: TrafficLightColor) {\n",
    "    match light_state {\n",
    "        TrafficLightColor::Green => println!(\"zoom zoom!\"),\n",
    "        TrafficLightColor::Red => println!(\"sitting like a boulder!\"),\n",
    "    }\n",
    "}"
   ]
  },
  {
   "attachments": {},
   "cell_type": "markdown",
   "id": "21672979",
   "metadata": {},
   "source": [
    "- 如果你只对其中几个感兴趣，可以使用默认绑定来捕获所有其他情况。\n",
    "\n",
    "```rust\n",
    "match light_state {\n",
    "    TrafficLightColor::Green => println!(\"zoom zoom!\"),\n",
    "    _ => println!(\"do not pass go\"), // default binding. \n",
    "    // DO THIS in all other cases\n",
    "}"
   ]
  },
  {
   "attachments": {},
   "cell_type": "markdown",
   "id": "f0c6082c",
   "metadata": {},
   "source": [
    "- 与大多数语言的枚举不同，Rust 枚举可以存储任意数据"
   ]
  },
  {
   "cell_type": "code",
   "execution_count": null,
   "id": "e6707552",
   "metadata": {
    "vscode": {
     "languageId": "rust"
    }
   },
   "outputs": [],
   "source": [
    "enum Location {\n",
    "    Coordinates(f32, f32),\n",
    "    Address(String),\n",
    "    Unknown,\n",
    "}"
   ]
  },
  {
   "attachments": {},
   "cell_type": "markdown",
   "id": "c11911b7",
   "metadata": {},
   "source": [
    "比如：\n",
    "想要存储某物的位置，并希望有选项表示它：\n",
    "- 经纬度坐标（32位浮点数）\n",
    "- 地址（值为字符串）\n",
    "- 未知（没有任何关联数据）"
   ]
  },
  {
   "attachments": {},
   "cell_type": "markdown",
   "id": "f7db1f2d",
   "metadata": {},
   "source": [
    "可以使用 `match` 表达式从变量中提取数据"
   ]
  },
  {
   "cell_type": "code",
   "execution_count": 5,
   "id": "ca8a881c",
   "metadata": {
    "vscode": {
     "languageId": "rust"
    }
   },
   "outputs": [
    {
     "name": "stdout",
     "output_type": "stream",
     "text": [
      "Person is at yeugdauabi233!\n"
     ]
    }
   ],
   "source": [
    "enum Location {\n",
    "    Coordinates(f32, f32),\n",
    "    Address(String),\n",
    "    Unknown,\n",
    "}\n",
    "\n",
    "fn print_location(loc: Location) {\n",
    "    match loc {\n",
    "        Location::Coordinates(lat, long) => {\n",
    "            println!(\"Person is at ({}, {})\", lat, long);\n",
    "        },\n",
    "        Location::Address(addr) => {\n",
    "            println!(\"Person is at {}\", addr);\n",
    "        },\n",
    "        Location::Unknown => println!(\"Location unknown!\"),\n",
    "    }\n",
    "}\n",
    "\n",
    "print_location(Location::Address(\"yeugdauabi233!\".to_string()));"
   ]
  },
  {
   "attachments": {},
   "cell_type": "markdown",
   "id": "ce5b8bc4",
   "metadata": {},
   "source": [
    "如果使用枚举来清晰地表示成功返回/错误会怎样呢？\n",
    "\n",
    "- 如果函数成功运行，则返回OK (任何返回值)\n",
    "- 如果发生错误，则返回Err (某个错误对象)"
   ]
  },
  {
   "cell_type": "code",
   "execution_count": null,
   "id": "1f7fe3ee",
   "metadata": {
    "vscode": {
     "languageId": "rust"
    }
   },
   "outputs": [],
   "source": [
    "// Rust 标准库中的一部分\n",
    "enum Result<T, E> {\n",
    "    OK(T),\n",
    "    Err(E),\n",
    "}\n",
    "\n",
    "// T 是成功时要存储在OK中的值的类型\n",
    "// E 是错误时要存储在Err中的值的类型"
   ]
  },
  {
   "cell_type": "code",
   "execution_count": null,
   "id": "14b3ec66",
   "metadata": {
    "vscode": {
     "languageId": "rust"
    }
   },
   "outputs": [],
   "source": [
    "// u32 成功返回的类型，str 错误返回的类型\n",
    "fn gen_num_sometimes() -> Result<u32, &'stack str> {\n",
    "    if get_random_num() > 10 {\n",
    "        OK(get_random_num())\n",
    "    } else {\n",
    "        Err(\"number is less than 11\")\n",
    "    }\n",
    "}\n",
    "\n",
    "fn main() {\n",
    "    match gen_num_sometimes() {\n",
    "        OK(num) => println!(\"get number: {}\", num),\n",
    "        Err(message) => println!(\"Operation failied: {}\", message),\n",
    "    }\n",
    "}"
   ]
  }
 ],
 "metadata": {
  "kernelspec": {
   "display_name": "Rust",
   "language": "rust",
   "name": "rust"
  },
  "language_info": {
   "codemirror_mode": "rust",
   "file_extension": ".rs",
   "mimetype": "text/rust",
   "name": "Rust",
   "pygment_lexer": "rust",
   "version": ""
  }
 },
 "nbformat": 4,
 "nbformat_minor": 5
}
