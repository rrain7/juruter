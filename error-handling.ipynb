{
 "cells": [
  {
   "attachments": {},
   "cell_type": "markdown",
   "id": "b3d33efe-854c-4325-9064-f07ed8f5b4e3",
   "metadata": {},
   "source": [
    "# Error Handling"
   ]
  },
  {
   "attachments": {},
   "cell_type": "markdown",
   "id": "0a0fd4d8",
   "metadata": {},
   "source": [
    "Rust 不同于别的语言，使用**枚举**作为错误处理的方式\n",
    "\n",
    "- 枚举`enum`是一种类型，可以包含多个变量之一"
   ]
  },
  {
   "cell_type": "code",
   "execution_count": null,
   "id": "7ff1eb66",
   "metadata": {
    "vscode": {
     "languageId": "rust"
    }
   },
   "outputs": [],
   "source": [
    "enum TrafficLightColor {    // Type\n",
    "    Red,                    // variants\n",
    "    Yellow,\n",
    "    Green,\n",
    "}\n",
    "\n",
    "let current_state = TrafficLightColor::Green;"
   ]
  },
  {
   "attachments": {},
   "cell_type": "markdown",
   "id": "c72b8e45",
   "metadata": {},
   "source": [
    "- Rust: `match`表达式类似于 C/C++/Java 中的 `switch` 语句，但是必须覆盖所有可能的值\n",
    "\n",
    "如果没有全部覆盖，则会报错，如下所示"
   ]
  },
  {
   "cell_type": "code",
   "execution_count": 3,
   "id": "ddfd1c3e",
   "metadata": {
    "vscode": {
     "languageId": "rust"
    }
   },
   "outputs": [
    {
     "ename": "Error",
     "evalue": "non-exhaustive patterns: `TrafficLightColor::Yellow` not covered",
     "output_type": "error",
     "traceback": [
      "\u001b[31m[E0004] Error:\u001b[0m non-exhaustive patterns: `TrafficLightColor::Yellow` not covered",
      "    \u001b[38;5;246m╭\u001b[0m\u001b[38;5;246m─\u001b[0m\u001b[38;5;246m[\u001b[0mcommand_3:1:1\u001b[38;5;246m]\u001b[0m",
      "    \u001b[38;5;246m│\u001b[0m",
      " \u001b[38;5;246m 9 │\u001b[0m \u001b[38;5;249m \u001b[0m\u001b[38;5;249m \u001b[0m\u001b[38;5;249m \u001b[0m\u001b[38;5;249m \u001b[0m\u001b[38;5;249mm\u001b[0m\u001b[38;5;249ma\u001b[0m\u001b[38;5;249mt\u001b[0m\u001b[38;5;249mc\u001b[0m\u001b[38;5;249mh\u001b[0m\u001b[38;5;249m \u001b[0m\u001b[38;5;54ml\u001b[0m\u001b[38;5;54mi\u001b[0m\u001b[38;5;54mg\u001b[0m\u001b[38;5;54mh\u001b[0m\u001b[38;5;54mt\u001b[0m\u001b[38;5;54m_\u001b[0m\u001b[38;5;54ms\u001b[0m\u001b[38;5;54mt\u001b[0m\u001b[38;5;54ma\u001b[0m\u001b[38;5;54mt\u001b[0m\u001b[38;5;54me\u001b[0m\u001b[38;5;249m \u001b[0m\u001b[38;5;249m{\u001b[0m",
      " \u001b[38;5;246m   ·\u001b[0m           \u001b[38;5;54m─\u001b[0m\u001b[38;5;54m─\u001b[0m\u001b[38;5;54m─\u001b[0m\u001b[38;5;54m─\u001b[0m\u001b[38;5;54m─\u001b[0m\u001b[38;5;54m┬\u001b[0m\u001b[38;5;54m─\u001b[0m\u001b[38;5;54m─\u001b[0m\u001b[38;5;54m─\u001b[0m\u001b[38;5;54m─\u001b[0m\u001b[38;5;54m─\u001b[0m  ",
      " \u001b[38;5;246m   ·\u001b[0m                \u001b[38;5;54m╰\u001b[0m\u001b[38;5;54m─\u001b[0m\u001b[38;5;54m─\u001b[0m\u001b[38;5;54m─\u001b[0m\u001b[38;5;54m─\u001b[0m\u001b[38;5;54m─\u001b[0m\u001b[38;5;54m─\u001b[0m\u001b[38;5;54m─\u001b[0m pattern `TrafficLightColor::Yellow` not covered",
      " \u001b[38;5;246m   ·\u001b[0m ",
      " \u001b[38;5;246m11 │\u001b[0m \u001b[38;5;249m \u001b[0m\u001b[38;5;249m \u001b[0m\u001b[38;5;249m \u001b[0m\u001b[38;5;249m \u001b[0m\u001b[38;5;249m \u001b[0m\u001b[38;5;249m \u001b[0m\u001b[38;5;249m \u001b[0m\u001b[38;5;249m \u001b[0m\u001b[38;5;249mT\u001b[0m\u001b[38;5;249mr\u001b[0m\u001b[38;5;249ma\u001b[0m\u001b[38;5;249mf\u001b[0m\u001b[38;5;249mf\u001b[0m\u001b[38;5;249mi\u001b[0m\u001b[38;5;249mc\u001b[0m\u001b[38;5;249mL\u001b[0m\u001b[38;5;249mi\u001b[0m\u001b[38;5;249mg\u001b[0m\u001b[38;5;249mh\u001b[0m\u001b[38;5;249mt\u001b[0m\u001b[38;5;249mC\u001b[0m\u001b[38;5;249mo\u001b[0m\u001b[38;5;249ml\u001b[0m\u001b[38;5;249mo\u001b[0m\u001b[38;5;249mr\u001b[0m\u001b[38;5;249m:\u001b[0m\u001b[38;5;249m:\u001b[0m\u001b[38;5;249mR\u001b[0m\u001b[38;5;249me\u001b[0m\u001b[38;5;249md\u001b[0m\u001b[38;5;249m \u001b[0m\u001b[38;5;249m=\u001b[0m\u001b[38;5;249m>\u001b[0m\u001b[38;5;249m \u001b[0m\u001b[38;5;249mp\u001b[0m\u001b[38;5;249mr\u001b[0m\u001b[38;5;249mi\u001b[0m\u001b[38;5;249mn\u001b[0m\u001b[38;5;249mt\u001b[0m\u001b[38;5;249ml\u001b[0m\u001b[38;5;249mn\u001b[0m\u001b[38;5;249m!\u001b[0m\u001b[38;5;249m(\u001b[0m\u001b[38;5;249m\"\u001b[0m\u001b[38;5;249ms\u001b[0m\u001b[38;5;249mi\u001b[0m\u001b[38;5;249mt\u001b[0m\u001b[38;5;249mt\u001b[0m\u001b[38;5;249mi\u001b[0m\u001b[38;5;249mn\u001b[0m\u001b[38;5;249mg\u001b[0m\u001b[38;5;249m \u001b[0m\u001b[38;5;249ml\u001b[0m\u001b[38;5;249mi\u001b[0m\u001b[38;5;249mk\u001b[0m\u001b[38;5;249me\u001b[0m\u001b[38;5;249m \u001b[0m\u001b[38;5;249ma\u001b[0m\u001b[38;5;249m \u001b[0m\u001b[38;5;249mb\u001b[0m\u001b[38;5;249mo\u001b[0m\u001b[38;5;249mu\u001b[0m\u001b[38;5;249ml\u001b[0m\u001b[38;5;249md\u001b[0m\u001b[38;5;249me\u001b[0m\u001b[38;5;249mr\u001b[0m\u001b[38;5;249m!\u001b[0m\u001b[38;5;249m\"\u001b[0m\u001b[38;5;249m)\u001b[0m\u001b[38;5;249m,\u001b[0m",
      " \u001b[38;5;246m   ·\u001b[0m                                                                      \u001b[38;5;100m│\u001b[0m ",
      " \u001b[38;5;246m   ·\u001b[0m                                                                      \u001b[38;5;100m╰\u001b[0m\u001b[38;5;100m─\u001b[0m help: ensure that all possible cases are being handled by adding a match arm with a wildcard pattern or an explicit pattern as shown: `,",
      "        TrafficLightColor::Yellow => todo!()`",
      "\u001b[38;5;246m────╯\u001b[0m"
     ]
    }
   ],
   "source": [
    "enum TrafficLightColor {    // Type\n",
    "    Red,                    // variants\n",
    "    Yellow,\n",
    "    Green,\n",
    "}\n",
    "\n",
    "\n",
    "fn drive(light_state: TrafficLightColor) {\n",
    "    match light_state {\n",
    "        TrafficLightColor::Green => println!(\"zoom zoom!\"),\n",
    "        TrafficLightColor::Red => println!(\"sitting like a boulder!\"),\n",
    "    }\n",
    "}"
   ]
  },
  {
   "attachments": {},
   "cell_type": "markdown",
   "id": "21672979",
   "metadata": {},
   "source": [
    "- 如果你只对其中几个感兴趣，可以使用默认绑定来捕获所有其他情况。\n",
    "\n",
    "```rust\n",
    "match light_state {\n",
    "    TrafficLightColor::Green => println!(\"zoom zoom!\"),\n",
    "    _ => println!(\"do not pass go\"), // default binding. \n",
    "    // DO THIS in all other cases\n",
    "}"
   ]
  },
  {
   "attachments": {},
   "cell_type": "markdown",
   "id": "f0c6082c",
   "metadata": {},
   "source": [
    "- 与大多数语言的枚举不同，Rust 枚举可以存储任意数据"
   ]
  },
  {
   "cell_type": "code",
   "execution_count": null,
   "id": "e6707552",
   "metadata": {
    "vscode": {
     "languageId": "rust"
    }
   },
   "outputs": [],
   "source": [
    "enum Location {\n",
    "    Coordinates(f32, f32),\n",
    "    Address(String),\n",
    "    Unknown,\n",
    "}"
   ]
  },
  {
   "attachments": {},
   "cell_type": "markdown",
   "id": "c11911b7",
   "metadata": {},
   "source": [
    "比如：\n",
    "想要存储某物的位置，并希望有选项表示它：\n",
    "- 经纬度坐标（32位浮点数）\n",
    "- 地址（值为字符串）\n",
    "- 未知（没有任何关联数据）"
   ]
  },
  {
   "attachments": {},
   "cell_type": "markdown",
   "id": "f7db1f2d",
   "metadata": {},
   "source": [
    "可以使用 `match` 表达式从变量中提取数据"
   ]
  },
  {
   "cell_type": "code",
   "execution_count": 5,
   "id": "ca8a881c",
   "metadata": {
    "vscode": {
     "languageId": "rust"
    }
   },
   "outputs": [
    {
     "name": "stdout",
     "output_type": "stream",
     "text": [
      "Person is at yeugdauabi233!\n"
     ]
    }
   ],
   "source": [
    "enum Location {\n",
    "    Coordinates(f32, f32),\n",
    "    Address(String),\n",
    "    Unknown,\n",
    "}\n",
    "\n",
    "fn print_location(loc: Location) {\n",
    "    match loc {\n",
    "        Location::Coordinates(lat, long) => {\n",
    "            println!(\"Person is at ({}, {})\", lat, long);\n",
    "        },\n",
    "        Location::Address(addr) => {\n",
    "            println!(\"Person is at {}\", addr);\n",
    "        },\n",
    "        Location::Unknown => println!(\"Location unknown!\"),\n",
    "    }\n",
    "}\n",
    "\n",
    "print_location(Location::Address(\"yeugdauabi233!\".to_string()));"
   ]
  },
  {
   "attachments": {},
   "cell_type": "markdown",
   "id": "ce5b8bc4",
   "metadata": {},
   "source": [
    "如果使用枚举来清晰地表示成功返回/错误会怎样呢？\n",
    "\n",
    "- 如果函数成功运行，则返回OK (任何返回值)\n",
    "- 如果发生错误，则返回Err (某个错误对象)"
   ]
  },
  {
   "cell_type": "code",
   "execution_count": null,
   "id": "1f7fe3ee",
   "metadata": {
    "vscode": {
     "languageId": "rust"
    }
   },
   "outputs": [],
   "source": [
    "// Rust 标准库中的一部分\n",
    "enum Result<T, E> {\n",
    "    OK(T),\n",
    "    Err(E),\n",
    "}\n",
    "\n",
    "// T 是成功时要存储在OK中的值的类型\n",
    "// E 是错误时要存储在Err中的值的类型"
   ]
  },
  {
   "cell_type": "code",
   "execution_count": null,
   "id": "14b3ec66",
   "metadata": {
    "vscode": {
     "languageId": "rust"
    }
   },
   "outputs": [],
   "source": [
    "// u32 成功返回的类型，str 错误返回的类型\n",
    "fn gen_num_sometimes() -> Result<u32, &'stack str> {\n",
    "    if get_random_num() > 10 {\n",
    "        OK(get_random_num())\n",
    "    } else {\n",
    "        Err(\"number is less than 11\")\n",
    "    }\n",
    "}\n",
    "\n",
    "fn main() {\n",
    "    match gen_num_sometimes() {\n",
    "        Ok(num) => println!(\"get number: {}\", num),\n",
    "        Err(message) => println!(\"Operation failied: {}\", message),\n",
    "    }\n",
    "}"
   ]
  },
  {
   "attachments": {},
   "cell_type": "markdown",
   "id": "323c279b",
   "metadata": {},
   "source": [
    "## 对比 C 语言的错误"
   ]
  },
  {
   "attachments": {},
   "cell_type": "markdown",
   "id": "207346fb",
   "metadata": {},
   "source": [
    "在 C 语言错误处理方面遇到的两个主要问题：\n",
    "- 很容易错过错误\n",
    "- 正确的错误处理太冗长了（需要额外的代码来传播错误）\n",
    "\n",
    "Rust 解决了第一个问题：从函数签名中可以明显看出哪些函数可能返回错误，而且（由于枚举规则）编译器将验证是否对返回的错误进行了处理。\n",
    "\n",
    "但是第二个问题还是存在，错误处理仍然太冗长了"
   ]
  },
  {
   "cell_type": "code",
   "execution_count": null,
   "id": "832869ea",
   "metadata": {
    "vscode": {
     "languageId": "rust"
    }
   },
   "outputs": [],
   "source": [
    "fn read_file(filename: &str) -> Result<String, io::Error> {\n",
    "    let mut s = String::new();\n",
    "\n",
    "    let result = File::open(filename);\n",
    "\n",
    "    let mut f = match result {\n",
    "        Ok(file) => file,\n",
    "        Err(e) => return Err(e),\n",
    "    }\n",
    "\n",
    "    match f.read_to_string(&mut s) {\n",
    "        Ok(_) => Ok(s),\n",
    "        Err(e) => Err(e),\n",
    "    }\n",
    "}"
   ]
  },
  {
   "attachments": {},
   "cell_type": "markdown",
   "id": "12271c06",
   "metadata": {},
   "source": [
    "### ? 操作\n",
    "\n",
    "假设我们有一个函数 `helper_function() -> Result<T, E>`\n",
    "\n",
    "`let val: T = helper_function()?`\n",
    "意味着：\n",
    "- 如果函数返回 Ok(some value), 那么就将 val 设置成那个值\n",
    "- 如果函数返回 Err(some error)，停止并且返回/传播那么错误\n",
    "\n",
    "因此上面代码可以改写如下："
   ]
  },
  {
   "cell_type": "code",
   "execution_count": null,
   "id": "3d471cae",
   "metadata": {
    "vscode": {
     "languageId": "rust"
    }
   },
   "outputs": [],
   "source": [
    "fn read_file(filename: &str) -> Result<String, io::Error> {\n",
    "    let mut s = String::new();\n",
    "\n",
    "    let mut f = File::open(filename)?;\n",
    "    // 如果文件成功打开了，那么存储文件到 f\n",
    "    // 如果一个错误发生了，那么就停止并且返回错误给调用者\n",
    "\n",
    "    f.read_to_string(&mut s)?;\n",
    "    Ok(s)\n",
    "}"
   ]
  },
  {
   "attachments": {},
   "cell_type": "markdown",
   "id": "8cdf878b",
   "metadata": {},
   "source": [
    "甚至可以更短"
   ]
  },
  {
   "cell_type": "code",
   "execution_count": null,
   "id": "ccc7307b",
   "metadata": {
    "vscode": {
     "languageId": "rust"
    }
   },
   "outputs": [],
   "source": [
    "fn read_file(filename: &str) -> Result<String, io::Error> {\n",
    "    let mut s = String::new();\n",
    "    File::open(filename)?.read_to_string(&mut s);\n",
    "    Ok(s)\n",
    "}"
   ]
  },
  {
   "attachments": {},
   "cell_type": "markdown",
   "id": "50dbc513",
   "metadata": {},
   "source": [
    "## Panics"
   ]
  },
  {
   "attachments": {},
   "cell_type": "markdown",
   "id": "c5a175e7",
   "metadata": {},
   "source": [
    "- 如果遇到不希望传播或者处理的错误呢？\n",
    "    - 可能是一个严重的，不可恢复的错误\n",
    "    - 可能是无法预料的错误，也不想花费精力去处理\n",
    "    - 比如：如果是一个终端程序，无法从终端读取输入，那么实际上没有什么优雅的解决方法\n",
    "\n",
    "- `panic!`宏会立即崩溃程序并显示错误消息\n",
    "    ```rust\n",
    "    if sad_times() {\n",
    "        panic!(\"Sad times!\");\n",
    "    }\n",
    "    ```\n",
    "\n",
    "- `Result::unwrap()` 和 `Result::expect()` 允许我们去提取从Ok\n",
    "()返回的值，如果遇到 Err 则 panic"
   ]
  },
  {
   "attachments": {},
   "cell_type": "markdown",
   "id": "f6b8ef2b",
   "metadata": {},
   "source": [
    "### `unwrap()` 和 `expect()`"
   ]
  },
  {
   "cell_type": "code",
   "execution_count": null,
   "id": "2de839e4",
   "metadata": {
    "vscode": {
     "languageId": "rust"
    }
   },
   "outputs": [],
   "source": [
    "// File::open 返回 Result: Ok(file) or Err(error)\n",
    "// unwrap 意味着：\n",
    "// - 如果结果是 Ok：存储枚举的值到 file\n",
    "// - 如果结果是 Err（打开文件失败）：panic(终止程序)\n",
    "\n",
    "// 如果打开文件失败，则 Panic\n",
    "let mut file = File::open(filename).unwrap();\n",
    "\n",
    "// expect 和 unwrap 一样，但是当发生 panic 时，允许打印更多的错误描述信息\n",
    "let mut file = File::open(filename).expect(\"Failed to open file\");\n",
    "\n",
    "// "
   ]
  },
  {
   "attachments": {},
   "cell_type": "markdown",
   "id": "5a01a325",
   "metadata": {},
   "source": [
    "## 处理 nulls"
   ]
  },
  {
   "attachments": {},
   "cell_type": "markdown",
   "id": "3f32291c",
   "metadata": {},
   "source": [
    "为什么 Null 值如此危险？\n",
    "- 它们给程序员带来了巨大的负担，每当有一个指针时，都需要思考，它是否为空（NULL）？\n",
    "- 静态分析其无法在不被错误警告淹没的情况下警告所有的 NULL\n",
    "\n",
    "我们应该怎么做呢？\n",
    "\n",
    "```rust\n",
    "enum Option<T> {\n",
    "    None,\n",
    "    Some(T),\n",
    "}\n",
    "```"
   ]
  },
  {
   "cell_type": "code",
   "execution_count": null,
   "id": "4776d5cb",
   "metadata": {
    "vscode": {
     "languageId": "rust"
    }
   },
   "outputs": [],
   "source": [
    "fn feeling_lucky() -> Option<String> {\n",
    "    if get_random_num() > 10 {\n",
    "        Some(String::from(\"I'm feeling lucky!\"))\n",
    "    } else {\n",
    "        None\n",
    "    }\n",
    "}\n",
    "\n",
    "match feeling_lucky() {\n",
    "    Some(message) => {\n",
    "        println!(\"Got message: {}\", message);\n",
    "    },\n",
    "    None => {\n",
    "        println!(\"No message returned :-/\");\n",
    "    }\n",
    "}"
   ]
  },
  {
   "cell_type": "code",
   "execution_count": null,
   "id": "56a723e8",
   "metadata": {
    "vscode": {
     "languageId": "rust"
    }
   },
   "outputs": [],
   "source": [
    "fn feeling_lucky() -> Option<String> {\n",
    "    if get_random_num() > 10 {\n",
    "        Some(String::from(\"I'm feeling lucky!\"))\n",
    "    } else {\n",
    "        None\n",
    "    }\n",
    "}\n",
    "\n",
    "// check if is_none/is_some():\n",
    "if feeling_lucky().is_none() {\n",
    "    println!(\"Not feeling lucky :(\")\n",
    "}\n",
    "\n",
    "// unwrap/expect 在这里也生效\n",
    "let message = feeling_lucky().unwrap();\n",
    "\n",
    "let message = feeling_lucky().expect(\"feeling_lucky failed us!\");\n",
    "\n",
    "// 如果返回 None 时，可以提供一个默认的值\n",
    "let message = feeling_lucky().unwrap_or(\"Not feeling lucky :(\".to_string());\n",
    "\n",
    "// ? 同样在函数返回时生效\n",
    "let expanded_message: String = feeling_lucky()? + \" Are you?\";"
   ]
  }
 ],
 "metadata": {
  "kernelspec": {
   "display_name": "Rust",
   "language": "rust",
   "name": "rust"
  },
  "language_info": {
   "codemirror_mode": "rust",
   "file_extension": ".rs",
   "mimetype": "text/rust",
   "name": "Rust",
   "pygment_lexer": "rust",
   "version": ""
  }
 },
 "nbformat": 4,
 "nbformat_minor": 5
}
