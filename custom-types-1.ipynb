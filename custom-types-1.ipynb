{
 "cells": [
  {
   "attachments": {},
   "cell_type": "markdown",
   "id": "9895a886-e3bf-4378-b1c1-7cecf1186bcd",
   "metadata": {},
   "source": [
    "# Custome Types"
   ]
  },
  {
   "attachments": {},
   "cell_type": "markdown",
   "id": "c2badf7f",
   "metadata": {},
   "source": [
    "__快速回复__: 什么是链表？\n",
    "\n",
    "如图所示：\n",
    "\n",
    "<img src=\"./asset/types/link-list-c.png\" width=\"800\" />"
   ]
  },
  {
   "attachments": {},
   "cell_type": "markdown",
   "id": "02cdc14e",
   "metadata": {},
   "source": [
    "在 Rust 中定义结构体（通用语法）"
   ]
  },
  {
   "cell_type": "code",
   "execution_count": 8,
   "id": "e13cacd0",
   "metadata": {},
   "outputs": [
    {
     "name": "stdout",
     "output_type": "stream",
     "text": [
      "thea lives in xian\n"
     ]
    },
    {
     "data": {
      "text/plain": [
       "()"
      ]
     },
     "execution_count": 8,
     "metadata": {},
     "output_type": "execute_result"
    }
   ],
   "source": [
    "struct Person {\n",
    "    name: String,\n",
    "    location: String,\n",
    "}\n",
    "\n",
    "fn main() {\n",
    "    let thea = Person{\n",
    "        name: \"thea\".to_string(),\n",
    "        location: \"xian\".to_string(),\n",
    "    };\n",
    "\n",
    "    println!(\"{} lives in {}\", thea.name, thea.location)\n",
    "}\n",
    "\n",
    "// main()"
   ]
  },
  {
   "attachments": {},
   "cell_type": "markdown",
   "id": "2dfad58e",
   "metadata": {},
   "source": [
    "怎么在Rust中定义 Node\n",
    "\n",
    "<img src=\"asset/types/node-rust.png\" width=\"800\"/>"
   ]
  },
  {
   "attachments": {},
   "cell_type": "markdown",
   "id": "5804d6c8",
   "metadata": {},
   "source": [
    "## Box in Rust"
   ]
  },
  {
   "attachments": {},
   "cell_type": "markdown",
   "id": "2df277e4",
   "metadata": {},
   "source": [
    "- 创建一个 Box，将其放在堆上\n",
    "- 任何东西都可以放进 Box\n",
    "- Box 拥有 Box 内的所有东西，当 Box 离开作用域时，Box中的值将被销毁"
   ]
  },
  {
   "cell_type": "code",
   "execution_count": null,
   "id": "d71a9507",
   "metadata": {
    "tags": []
   },
   "outputs": [],
   "source": [
    "struct Node {\n",
    "    value: i32,\n",
    "}\n",
    "\n",
    "fn main() {\n",
    "    let node = Box::new(Node{value: 1});\n",
    "    println!(\"{}\", node.value);\n",
    "}"
   ]
  },
  {
   "attachments": {},
   "cell_type": "markdown",
   "id": "bc8162d2",
   "metadata": {},
   "source": [
    "上面代码的解释如图所示：\n",
    "\n",
    "<img src= \"asset/types/box-node.png\" width=\"800\"/>\n",
    "\n",
    "- node 的类型是 `Box<Node>`\n",
    "- 在堆上声明和分配 Node\n",
    "- 变量 `node` 是 `Box<Node>` 的所有者\n",
    "- 当 `node` 不再使用时，`Box` 会自动被销毁\n",
    "- 当`Box`被销毁，`Node`对象也被销毁"
   ]
  },
  {
   "cell_type": "code",
   "execution_count": null,
   "id": "03229c33",
   "metadata": {},
   "outputs": [],
   "source": [
    "struct Node {\n",
    "    value: i32,\n",
    "    next: Box<Node>,\n",
    "}"
   ]
  },
  {
   "attachments": {},
   "cell_type": "markdown",
   "id": "9b99ad14",
   "metadata": {},
   "source": [
    "使用 Node: 一个元素的链表\n",
    "\n",
    "```rust\n",
    "struct Node {\n",
    "    value: i32,\n",
    "    next: Box<Node>,\n",
    "}\n",
    "\n",
    "fn main() {\n",
    "    let node = Box::new(\n",
    "        Node {\n",
    "            value: 1,\n",
    "            next: /* 相当于空指针吗？ */\n",
    "        }\n",
    "    )\n",
    "}\n",
    "```"
   ]
  },
  {
   "attachments": {},
   "cell_type": "markdown",
   "id": "b6c991d8",
   "metadata": {},
   "source": [
    "### 回想起 Options"
   ]
  },
  {
   "cell_type": "code",
   "execution_count": null,
   "id": "594e6166",
   "metadata": {},
   "outputs": [],
   "source": [
    "struct Node {\n",
    "    value: i32,\n",
    "    next: Option<Box<Node>>,\n",
    "}\n",
    "\n",
    "fn main() {\n",
    "    let node = Box::new(Node{\n",
    "        value: 1,\n",
    "        next: None\n",
    "    });\n",
    "}"
   ]
  },
  {
   "attachments": {},
   "cell_type": "markdown",
   "id": "3b575790",
   "metadata": {},
   "source": [
    "1. 制作一个长的列表\n",
    "\n",
    "> 下面的代码不会编译"
   ]
  },
  {
   "cell_type": "code",
   "execution_count": 13,
   "id": "dab9e707",
   "metadata": {},
   "outputs": [
    {
     "ename": "Error",
     "evalue": "mismatched types",
     "output_type": "error",
     "traceback": [
      "\u001b[31m[E0308] Error:\u001b[0m mismatched types",
      "   \u001b[38;5;246m╭\u001b[0m\u001b[38;5;246m─\u001b[0m\u001b[38;5;246m[\u001b[0mcommand_13:1:1\u001b[38;5;246m]\u001b[0m",
      "   \u001b[38;5;246m│\u001b[0m",
      " \u001b[38;5;246m9 │\u001b[0m \u001b[38;5;249m \u001b[0m\u001b[38;5;249m \u001b[0m\u001b[38;5;249m \u001b[0m\u001b[38;5;249m \u001b[0m\u001b[38;5;100mf\u001b[0m\u001b[38;5;100mi\u001b[0m\u001b[38;5;100mr\u001b[0m\u001b[38;5;100ms\u001b[0m\u001b[38;5;100mt\u001b[0m\u001b[38;5;100m.\u001b[0m\u001b[38;5;100mn\u001b[0m\u001b[38;5;100me\u001b[0m\u001b[38;5;100mx\u001b[0m\u001b[38;5;100mt\u001b[0m\u001b[38;5;249m \u001b[0m\u001b[38;5;249m=\u001b[0m\u001b[38;5;249m \u001b[0m\u001b[38;5;54ms\u001b[0m\u001b[38;5;54me\u001b[0m\u001b[38;5;54mc\u001b[0m\u001b[38;5;54mo\u001b[0m\u001b[38;5;54mn\u001b[0m\u001b[38;5;54md\u001b[0m\u001b[38;5;249m;\u001b[0m",
      " \u001b[38;5;246m  ·\u001b[0m     \u001b[38;5;100m─\u001b[0m\u001b[38;5;100m─\u001b[0m\u001b[38;5;100m─\u001b[0m\u001b[38;5;100m─\u001b[0m\u001b[38;5;100m─\u001b[0m\u001b[38;5;100m┬\u001b[0m\u001b[38;5;100m─\u001b[0m\u001b[38;5;100m─\u001b[0m\u001b[38;5;100m─\u001b[0m\u001b[38;5;100m─\u001b[0m   \u001b[38;5;54m─\u001b[0m\u001b[38;5;54m─\u001b[0m\u001b[38;5;54m─\u001b[0m\u001b[38;5;54m┬\u001b[0m\u001b[38;5;54m─\u001b[0m\u001b[38;5;54m─\u001b[0m  ",
      " \u001b[38;5;246m  ·\u001b[0m          \u001b[38;5;100m╰\u001b[0m\u001b[38;5;100m─\u001b[0m\u001b[38;5;100m─\u001b[0m\u001b[38;5;100m─\u001b[0m\u001b[38;5;100m─\u001b[0m\u001b[38;5;100m─\u001b[0m\u001b[38;5;100m─\u001b[0m\u001b[38;5;100m─\u001b[0m\u001b[38;5;100m─\u001b[0m\u001b[38;5;100m─\u001b[0m\u001b[38;5;100m─\u001b[0m\u001b[38;5;100m─\u001b[0m\u001b[38;5;100m─\u001b[0m\u001b[38;5;100m─\u001b[0m\u001b[38;5;100m─\u001b[0m\u001b[38;5;100m─\u001b[0m expected due to the type of this binding",
      " \u001b[38;5;246m  ·\u001b[0m                     \u001b[38;5;54m│\u001b[0m    ",
      " \u001b[38;5;246m  ·\u001b[0m                     \u001b[38;5;54m╰\u001b[0m\u001b[38;5;54m─\u001b[0m\u001b[38;5;54m─\u001b[0m\u001b[38;5;54m─\u001b[0m\u001b[38;5;54m─\u001b[0m expected enum `Option`, found struct `Box`",
      "\u001b[38;5;246m───╯\u001b[0m"
     ]
    }
   ],
   "source": [
    "struct Node {\n",
    "    value: i32,\n",
    "    next: Option<Box<Node>>,\n",
    "}\n",
    "\n",
    "fn main() {\n",
    "    let mut first = Box::new(Node{value: 1, next: None});\n",
    "    let second = Box::new(Node{value: 2, next: None});\n",
    "    first.next = second;\n",
    "}"
   ]
  },
  {
   "attachments": {},
   "cell_type": "markdown",
   "id": "d0fc9ad4",
   "metadata": {},
   "source": [
    "错误信息如上面代码中显示的那样，需要的是一个 `Option` 类型，但是给的是一个 `Box`\n",
    "\n",
    "根据错误信息，对代码进行如下修改"
   ]
  },
  {
   "cell_type": "code",
   "execution_count": 14,
   "id": "b72752b3",
   "metadata": {},
   "outputs": [],
   "source": [
    "struct Node {\n",
    "    value: i32,\n",
    "    next: Option<Box<Node>>,\n",
    "}\n",
    "\n",
    "fn main() {\n",
    "    let mut first = Box::new(Node{value: 1, next: None});\n",
    "    let second = Box::new(Node{value: 2, next: None});\n",
    "\n",
    "    first.next = Some(second); // 目前是 Option<Box<Node>>\n",
    "}"
   ]
  },
  {
   "attachments": {},
   "cell_type": "markdown",
   "id": "67481805",
   "metadata": {},
   "source": [
    "2. 制作一个更长的列表\n",
    "\n",
    "> 下面的代码不会被编译"
   ]
  },
  {
   "cell_type": "code",
   "execution_count": 16,
   "id": "f9833ce6",
   "metadata": {},
   "outputs": [
    {
     "ename": "Error",
     "evalue": "assign to part of moved value: `*second`",
     "output_type": "error",
     "traceback": [
      "\u001b[31m[E0382] Error:\u001b[0m assign to part of moved value: `*second`",
      "    \u001b[38;5;246m╭\u001b[0m\u001b[38;5;246m─\u001b[0m\u001b[38;5;246m[\u001b[0mcommand_16:1:1\u001b[38;5;246m]\u001b[0m",
      "    \u001b[38;5;246m│\u001b[0m",
      " \u001b[38;5;246m 8 │\u001b[0m \u001b[38;5;249m \u001b[0m\u001b[38;5;249m \u001b[0m\u001b[38;5;249m \u001b[0m\u001b[38;5;249m \u001b[0m\u001b[38;5;249ml\u001b[0m\u001b[38;5;249me\u001b[0m\u001b[38;5;249mt\u001b[0m\u001b[38;5;249m \u001b[0m\u001b[38;5;68mm\u001b[0m\u001b[38;5;68mu\u001b[0m\u001b[38;5;68mt\u001b[0m\u001b[38;5;68m \u001b[0m\u001b[38;5;68ms\u001b[0m\u001b[38;5;68me\u001b[0m\u001b[38;5;68mc\u001b[0m\u001b[38;5;68mo\u001b[0m\u001b[38;5;68mn\u001b[0m\u001b[38;5;68md\u001b[0m\u001b[38;5;249m \u001b[0m\u001b[38;5;249m=\u001b[0m\u001b[38;5;249m \u001b[0m\u001b[38;5;249mB\u001b[0m\u001b[38;5;249mo\u001b[0m\u001b[38;5;249mx\u001b[0m\u001b[38;5;249m:\u001b[0m\u001b[38;5;249m:\u001b[0m\u001b[38;5;249mn\u001b[0m\u001b[38;5;249me\u001b[0m\u001b[38;5;249mw\u001b[0m\u001b[38;5;249m(\u001b[0m\u001b[38;5;249mN\u001b[0m\u001b[38;5;249mo\u001b[0m\u001b[38;5;249md\u001b[0m\u001b[38;5;249me\u001b[0m\u001b[38;5;249m{\u001b[0m\u001b[38;5;249mv\u001b[0m\u001b[38;5;249ma\u001b[0m\u001b[38;5;249ml\u001b[0m\u001b[38;5;249mu\u001b[0m\u001b[38;5;249me\u001b[0m\u001b[38;5;249m:\u001b[0m\u001b[38;5;249m \u001b[0m\u001b[38;5;249m2\u001b[0m\u001b[38;5;249m,\u001b[0m\u001b[38;5;249m \u001b[0m\u001b[38;5;249mn\u001b[0m\u001b[38;5;249me\u001b[0m\u001b[38;5;249mx\u001b[0m\u001b[38;5;249mt\u001b[0m\u001b[38;5;249m:\u001b[0m\u001b[38;5;249m \u001b[0m\u001b[38;5;249mN\u001b[0m\u001b[38;5;249mo\u001b[0m\u001b[38;5;249mn\u001b[0m\u001b[38;5;249me\u001b[0m\u001b[38;5;249m}\u001b[0m\u001b[38;5;249m)\u001b[0m\u001b[38;5;249m;\u001b[0m",
      " \u001b[38;5;246m   ·\u001b[0m         \u001b[38;5;68m─\u001b[0m\u001b[38;5;68m─\u001b[0m\u001b[38;5;68m─\u001b[0m\u001b[38;5;68m─\u001b[0m\u001b[38;5;68m─\u001b[0m\u001b[38;5;68m┬\u001b[0m\u001b[38;5;68m─\u001b[0m\u001b[38;5;68m─\u001b[0m\u001b[38;5;68m─\u001b[0m\u001b[38;5;68m─\u001b[0m  ",
      " \u001b[38;5;246m   ·\u001b[0m              \u001b[38;5;68m╰\u001b[0m\u001b[38;5;68m─\u001b[0m\u001b[38;5;68m─\u001b[0m\u001b[38;5;68m─\u001b[0m\u001b[38;5;68m─\u001b[0m\u001b[38;5;68m─\u001b[0m\u001b[38;5;68m─\u001b[0m move occurs because `second` has type `Box<Node>`, which does not implement the `Copy` trait",
      " \u001b[38;5;246m   ·\u001b[0m ",
      " \u001b[38;5;246m11 │\u001b[0m \u001b[38;5;249m \u001b[0m\u001b[38;5;249m \u001b[0m\u001b[38;5;249m \u001b[0m\u001b[38;5;249m \u001b[0m\u001b[38;5;249mf\u001b[0m\u001b[38;5;249mi\u001b[0m\u001b[38;5;249mr\u001b[0m\u001b[38;5;249ms\u001b[0m\u001b[38;5;249mt\u001b[0m\u001b[38;5;249m.\u001b[0m\u001b[38;5;249mn\u001b[0m\u001b[38;5;249me\u001b[0m\u001b[38;5;249mx\u001b[0m\u001b[38;5;249mt\u001b[0m\u001b[38;5;249m \u001b[0m\u001b[38;5;249m=\u001b[0m\u001b[38;5;249m \u001b[0m\u001b[38;5;249mS\u001b[0m\u001b[38;5;249mo\u001b[0m\u001b[38;5;249mm\u001b[0m\u001b[38;5;249me\u001b[0m\u001b[38;5;249m(\u001b[0m\u001b[38;5;54ms\u001b[0m\u001b[38;5;54me\u001b[0m\u001b[38;5;54mc\u001b[0m\u001b[38;5;54mo\u001b[0m\u001b[38;5;54mn\u001b[0m\u001b[38;5;54md\u001b[0m\u001b[38;5;249m)\u001b[0m\u001b[38;5;249m;\u001b[0m",
      " \u001b[38;5;246m   ·\u001b[0m                       \u001b[38;5;54m─\u001b[0m\u001b[38;5;54m─\u001b[0m\u001b[38;5;54m─\u001b[0m\u001b[38;5;54m┬\u001b[0m\u001b[38;5;54m─\u001b[0m\u001b[38;5;54m─\u001b[0m  ",
      " \u001b[38;5;246m   ·\u001b[0m                          \u001b[38;5;54m╰\u001b[0m\u001b[38;5;54m─\u001b[0m\u001b[38;5;54m─\u001b[0m\u001b[38;5;54m─\u001b[0m\u001b[38;5;54m─\u001b[0m value moved here",
      " \u001b[38;5;246m12 │\u001b[0m \u001b[38;5;249m \u001b[0m\u001b[38;5;249m \u001b[0m\u001b[38;5;249m \u001b[0m\u001b[38;5;249m \u001b[0m\u001b[38;5;100ms\u001b[0m\u001b[38;5;100me\u001b[0m\u001b[38;5;100mc\u001b[0m\u001b[38;5;100mo\u001b[0m\u001b[38;5;100mn\u001b[0m\u001b[38;5;100md\u001b[0m\u001b[38;5;100m.\u001b[0m\u001b[38;5;100mn\u001b[0m\u001b[38;5;100me\u001b[0m\u001b[38;5;100mx\u001b[0m\u001b[38;5;100mt\u001b[0m\u001b[38;5;249m \u001b[0m\u001b[38;5;249m=\u001b[0m\u001b[38;5;249m \u001b[0m\u001b[38;5;249mS\u001b[0m\u001b[38;5;249mo\u001b[0m\u001b[38;5;249mm\u001b[0m\u001b[38;5;249me\u001b[0m\u001b[38;5;249m(\u001b[0m\u001b[38;5;249mt\u001b[0m\u001b[38;5;249mh\u001b[0m\u001b[38;5;249mi\u001b[0m\u001b[38;5;249mr\u001b[0m\u001b[38;5;249md\u001b[0m\u001b[38;5;249m)\u001b[0m\u001b[38;5;249m;\u001b[0m",
      " \u001b[38;5;246m   ·\u001b[0m     \u001b[38;5;100m─\u001b[0m\u001b[38;5;100m─\u001b[0m\u001b[38;5;100m─\u001b[0m\u001b[38;5;100m─\u001b[0m\u001b[38;5;100m─\u001b[0m\u001b[38;5;100m┬\u001b[0m\u001b[38;5;100m─\u001b[0m\u001b[38;5;100m─\u001b[0m\u001b[38;5;100m─\u001b[0m\u001b[38;5;100m─\u001b[0m\u001b[38;5;100m─\u001b[0m  ",
      " \u001b[38;5;246m   ·\u001b[0m          \u001b[38;5;100m╰\u001b[0m\u001b[38;5;100m─\u001b[0m\u001b[38;5;100m─\u001b[0m\u001b[38;5;100m─\u001b[0m\u001b[38;5;100m─\u001b[0m\u001b[38;5;100m─\u001b[0m\u001b[38;5;100m─\u001b[0m\u001b[38;5;100m─\u001b[0m value partially assigned here after move",
      "\u001b[38;5;246m────╯\u001b[0m"
     ]
    }
   ],
   "source": [
    "struct Node {\n",
    "    value: i32,\n",
    "    next: Option<Box<Node>>,\n",
    "}\n",
    "\n",
    "fn main() {\n",
    "    let mut first = Box::new(Node{value: 1, next: None});\n",
    "    let mut second = Box::new(Node{value: 2, next: None});\n",
    "\n",
    "    let third = Box::new(Node{value: 3, next: None});\n",
    "    first.next = Some(second);\n",
    "    second.next = Some(third);\n",
    "}"
   ]
  },
  {
   "attachments": {},
   "cell_type": "markdown",
   "id": "70c6a407",
   "metadata": {},
   "source": [
    "__这里发生了什么？__\n",
    "\n",
    "如图所示\n",
    "\n",
    "<img src=\"./asset/types/link-owns.png\" width=\"800\"/>\n",
    "\n",
    "三个变量分别是三个内存的所有者\n",
    "\n",
    "`first.next = Some(second)` 会将 `second` 的值进行所有权的转让，之后 `second`无法对数据进行操作\n",
    "\n",
    "如图所示:\n",
    "\n",
    "<img src=\"./asset/types/own-move.png\" width=\"800\" />\n",
    "\n",
    "当进行 `second.next = Some(third);`时，因为无法通过`second`访问`Box<Node>`，所以出错。\n",
    "\n",
    "如图所示：\n",
    "\n",
    "<img src=\"./asset/types/own-move-2.png\" width=\"800\" />\n"
   ]
  },
  {
   "attachments": {},
   "cell_type": "markdown",
   "id": "a889b681",
   "metadata": {},
   "source": [
    "所有权的链\n",
    "\n",
    "- 含义：当`first`节点被 Drop\n",
    "    * 链表的第一个节点被删除\n",
    "    * 因此 Node 结构体中的 Option 也会被删除\n",
    "    * 因此 OPtion 中的 Box 会被删除\n",
    "    * 因此Box中包含的第二个节点也被删除\n",
    "- 所有的内容都将被清除\n",
    "- 但是不能使用`second`访问此节点了\n",
    "- 这些都是Rust中可能会恼人的问题"
   ]
  },
  {
   "cell_type": "code",
   "execution_count": null,
   "id": "0985eef0",
   "metadata": {},
   "outputs": [],
   "source": [
    "struct Node {\n",
    "    value: i32,\n",
    "    next: Option<Box<Node>>,\n",
    "}\n",
    "\n",
    "fn main() {\n",
    "    let mut first = Box::new(Node{value: 1, next: None});\n",
    "    let mut second = Box::new(Node{value: 2, next: None});\n",
    "    let third = Box::new(Node{value: 3, next: None});\n",
    "\n",
    "    // 交换刚才的顺序\n",
    "    second.next = Some(third);\n",
    "    first.next = Some(second);\n",
    "}"
   ]
  },
  {
   "attachments": {},
   "cell_type": "markdown",
   "id": "4ea3c172",
   "metadata": {},
   "source": [
    "打印列表\n",
    "\n",
    "在 C++ 中，打印列表如图所示\n",
    "\n",
    "<img src=\"./asset/types/cpp_list.png\" width=\"800\" />\n",
    "\n",
    "如何将代码翻译成 Rust ？\n",
    "\n",
    "- Rust 中没有指针，那么 `curr` 应该是什么类型呢？\n",
    "- 希望curr引用第一个节点作为起点，但是不想让 first 失去对节点的所有权（一旦`curr`不再使用，我们不希望列表被释放）\n",
    "- 循环的条件是什么？（如何知道何时到达结尾？）"
   ]
  },
  {
   "cell_type": "code",
   "execution_count": null,
   "id": "64a84dc4",
   "metadata": {},
   "outputs": [],
   "source": [
    "fn main() {\n",
    "    let mut first = Box::new(Node{value: 1, next: None});\n",
    "    let mut second = Box::new(Node{value: 2, next: None});\n",
    "    let third = Box::new(Node{value: 3, next: None});\n",
    "    second.next = Some(third);\n",
    "    first.next = Some(second);\n",
    "\n",
    "    let mut curr = Some(&first);\n",
    "    // 等价于\n",
    "    // let mut curr: Option<&Box<Node>> = Some(&first);\n",
    "}"
   ]
  },
  {
   "attachments": {},
   "cell_type": "markdown",
   "id": "bc62dc2e",
   "metadata": {},
   "source": [
    "- 将 `curr` 设置为可变的，因为我们将要重新赋值\n",
    "- `curr` 是一个 `Option<&Box<Node>>`\n",
    "- `Option`：可以是`Some` 或者 `None`\n",
    "    - 使用`None`暗示到达了列表的末尾\n",
    "- `&Box<Node>`:\n",
    "    - 若是`Some`: `<&Box<Node>>`\n",
    "    - 想要通过引用来获取`Box`\n",
    "    - `Box`包含了堆分配的节点"
   ]
  },
  {
   "cell_type": "code",
   "execution_count": null,
   "id": "346b7767",
   "metadata": {},
   "outputs": [],
   "source": [
    "fn main() {\n",
    "    let mut first = Box::new(Node{value: 1, next: None});\n",
    "    let mut second = Box::new(Node{value: 2, next: None});\n",
    "    let third = Box::new(Node{value: 3, next: None});\n",
    "    second.next = Some(third);\n",
    "    first.next = Some(second);\n",
    "\n",
    "    let mut curr = Some(&first);\n",
    "\n",
    "    while curr.is_some() {\n",
    "        println!(\"{}\", curr.value); \n",
    "        // 不会被编译\n",
    "        // 因为 curr 是一个 Option类型 -- `.vaule` 是无效的\n",
    "\n",
    "        // update curr\n",
    "    }\n",
    "}"
   ]
  },
  {
   "attachments": {},
   "cell_type": "markdown",
   "id": "67eab657",
   "metadata": {},
   "source": [
    "- 如果一个变量`curr`是一个`Some`类型，需要提取它的值。\n",
    "    - 可以使用 `curr.unwrap()`函数\n",
    "- 否则，将会 panic。"
   ]
  },
  {
   "cell_type": "code",
   "execution_count": null,
   "id": "408ae139",
   "metadata": {},
   "outputs": [],
   "source": [
    "fn main() {\n",
    "    let mut first = Box::new(Node{value: 1, next: None});\n",
    "    let mut second = Box::new(Node{value: 2, next: None});\n",
    "    let third = Box::new(Node{value: 3, next: None});\n",
    "    second.next = Some(third);\n",
    "    first.next = Some(second);\n",
    "\n",
    "    let mut curr = Some(&first);\n",
    "\n",
    "    while curr.is_some() {\n",
    "        println!(\"{}\", curr.unwrap().value);\n",
    "\n",
    "        // update curr\n",
    "    }\n",
    "}"
   ]
  },
  {
   "attachments": {},
   "cell_type": "markdown",
   "id": "f8637ad5",
   "metadata": {},
   "source": [
    "这里可以放心使用`unwrap`, 因为`is_some()`已经做了判断"
   ]
  },
  {
   "attachments": {},
   "cell_type": "markdown",
   "id": "4110cc06",
   "metadata": {},
   "source": [
    "**回顾一下**：`Option`, `enum`, `unwrap`\n",
    "\n",
    "`println!(\"{}\", curr.unwrap().value);`\n",
    "\n",
    "- `curr` 是一个 Option\n",
    "- Option 是一个 Rust 标准库中的 `enum` 类型\n",
    "    - 枚举是一种类型，它可以采用特定的、有限数量的定义变量。\n",
    "    - Rust中，枚举类型可以存储值\n",
    "- 一个 Option 可以是 `Some` 或者 `None`\n",
    "- 若是 `Some`, 它存储一个对象（这里是: &Box<Node>）\n",
    "- `curr.unwrap()` 意味着：\n",
    "    - 若 `curr` 是 Some，返回 Some 中包含的东西\n",
    "    - 若 `curr` 是 None，panic"
   ]
  },
  {
   "cell_type": "code",
   "execution_count": null,
   "id": "e03b3deb",
   "metadata": {},
   "outputs": [],
   "source": [
    "fn main() {\n",
    "    let mut first = Box::new(Node{value: 1, next: None});\n",
    "    let mut second = Box::new(Node{value: 2, next: None});\n",
    "    let third = Box::new(Node{value: 3, next: None});\n",
    "    second.next = Some(third);\n",
    "    first.next = Some(second);\n",
    "\n",
    "    let mut curr = Some(&first);\n",
    "\n",
    "    while curr.is_some() {\n",
    "        println!(\"{}\", curr.unwrap().value);\n",
    "\n",
    "        curr = curr.unwrap().next; // 代码不会被编译成功\n",
    "    }\n",
    "}"
   ]
  },
  {
   "attachments": {},
   "cell_type": "markdown",
   "id": "bc97b66f",
   "metadata": {},
   "source": [
    "原因如下：\n",
    "- `curr.unwrap()`返回了一个 Node 类型\n",
    "- Node.next 给我们了 Option<Box<Node>> 类型"
   ]
  },
  {
   "attachments": {},
   "cell_type": "markdown",
   "id": "bd9ca57d",
   "metadata": {},
   "source": [
    "**介绍 `as_ref()`**\n",
    "\n",
    "- 转换 `&Option<T>` 为 `Option<&T>`\n",
    "- 如果给定的 Option 是 None，返回 None\n",
    "\n",
    "比如："
   ]
  },
  {
   "cell_type": "code",
   "execution_count": null,
   "id": "547ddb35",
   "metadata": {},
   "outputs": [],
   "source": [
    "let mut curr = Some(&first);\n",
    "while curr.is_some() {\n",
    "    println!(\"{}\", curr.unwrap().value);\n",
    "\n",
    "    curr = (&curr.unwrap().next).as_ref();\n",
    "}"
   ]
  },
  {
   "attachments": {},
   "cell_type": "markdown",
   "id": "863fc7bf",
   "metadata": {},
   "source": [
    "- `curr.unwrap().next` 返回一个 `Option<Box<Node>>` 类型\n",
    "- 应用了 `&`, 给我们了 `&Option<Box<Node>>`类型\n",
    "- 应用 `as_ref` 给我们了 `Option<&Box<Node>>` 类型\n",
    "- 如果 `curr.unwrap().next` 是 None，`as_ref()` 返回 None"
   ]
  },
  {
   "cell_type": "markdown",
   "id": "37cbbd7c",
   "metadata": {},
   "source": []
  }
 ],
 "metadata": {
  "kernelspec": {
   "display_name": "Rust",
   "language": "rust",
   "name": "rust"
  },
  "language_info": {
   "codemirror_mode": "rust",
   "file_extension": ".rs",
   "mimetype": "text/rust",
   "name": "rust",
   "pygment_lexer": "rust",
   "version": ""
  }
 },
 "nbformat": 4,
 "nbformat_minor": 5
}
