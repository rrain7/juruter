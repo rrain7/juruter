{
 "cells": [
  {
   "attachments": {},
   "cell_type": "markdown",
   "id": "c22eafca",
   "metadata": {},
   "source": [
    "# Ownership（所有权）"
   ]
  },
  {
   "cell_type": "code",
   "execution_count": null,
   "id": "49676c7a-5f5e-4191-9bc2-067ddb9b79ad",
   "metadata": {
    "vscode": {
     "languageId": "rust"
    }
   },
   "outputs": [],
   "source": [
    "let julio = Bear::get();\n",
    "// let ryan = julio;"
   ]
  },
  {
   "attachments": {},
   "cell_type": "markdown",
   "id": "45bda92e-9855-4fe3-8033-830dbdf49224",
   "metadata": {
    "tags": []
   },
   "source": [
    "函数中的**变量**或者**结构体成员**可以看成*所有者* Owner, 而右边的东西（属于所有者的）可以看成*数据*或者*值*\n",
    "\n",
    "上面的代码进行可视化，如图所示。\n",
    "\n",
    "<img src=\"./asset/ownership/ownership-bear-1.png\", width=\"800\"/> ![ownership visualized](./asset/ownership/ownership-bear-1.png)"
   ]
  },
  {
   "attachments": {},
   "cell_type": "markdown",
   "id": "277c9e6c",
   "metadata": {},
   "source": [
    "当所有者玩完玩具后，需要将玩具放回原处。"
   ]
  },
  {
   "cell_type": "code",
   "execution_count": null,
   "id": "8bd820d3",
   "metadata": {
    "vscode": {
     "languageId": "rust"
    }
   },
   "outputs": [],
   "source": [
    "fn main() {\n",
    "    let julio = Bear::get();\n",
    "    // play with bear\n",
    "}"
   ]
  },
  {
   "attachments": {},
   "cell_type": "markdown",
   "id": "deedf820",
   "metadata": {},
   "source": [
    "如图所示：\n",
    "\n",
    "![ownership visualized](./asset/ownership/ownership-bear-2.png)"
   ]
  },
  {
   "attachments": {},
   "cell_type": "markdown",
   "id": "a13f5196",
   "metadata": {},
   "source": [
    "`julio` 是玩具熊的所有者，他可以对玩具熊做任何事情，同时他也需要对玩具熊负责，当玩完玩具熊后，或者需要离开的时候，需要将玩具熊放回原处（内存释放）。"
   ]
  },
  {
   "cell_type": "code",
   "execution_count": null,
   "id": "f581e1bb",
   "metadata": {
    "vscode": {
     "languageId": "rust"
    }
   },
   "outputs": [],
   "source": [
    "let julio = Bear::get();\n",
    "let ryan = julio;"
   ]
  },
  {
   "attachments": {},
   "cell_type": "markdown",
   "id": "c2d67173",
   "metadata": {},
   "source": [
    "上面的代码可以看成是：本来玩具熊 🧸 的所有者是 `julio`, 然后因为第二行的代码，🧸 的所有者变成了 `ryan`。`ryan` 可以对玩具熊 🧸 做任何事情，`ryan` 需要对玩具熊负责，在 `ryan` 离开时需要将玩具熊放回原处（在那里发现它的）\n",
    "\n",
    "因为`julio`已经将玩具熊给了`ryan`，所以他此时已经无法对玩具熊做任何事情了，同时他也不用为玩具熊负任何责任了。\n"
   ]
  },
  {
   "attachments": {},
   "cell_type": "markdown",
   "id": "dedec141",
   "metadata": {},
   "source": [
    "## 什么时候会发生所有权的转移呢？"
   ]
  },
  {
   "attachments": {},
   "cell_type": "markdown",
   "id": "28b5e44d",
   "metadata": {},
   "source": [
    "\n",
    "1. 函数调用\n",
    "\n",
    "- 函数调用可以获取变量的所有权（函数调用可以对玩具熊进行任何操作，因为是所有者了）\n",
    "- 同时也意味着在函数调用返回时，需要对变量负责，「释放变量的内存」（在函数调用离开时，需要将玩具熊放回原处，内存释放）\n",
    "- 当函数返回后，你不再能玩玩具熊 🧸 了（因为在函数调用返回后，玩具熊已经被放回原处了，此时已经不在拥有玩具熊了）"
   ]
  },
  {
   "cell_type": "code",
   "execution_count": null,
   "id": "83495ae2",
   "metadata": {
    "vscode": {
     "languageId": "rust"
    }
   },
   "outputs": [],
   "source": [
    "let julio = Bear::get();\n",
    "\n",
    "my_cool_bear_function(julio); // 这一步会让这个函数拥有玩具熊🧸，也就是说这个函数是玩具熊🧸的所有者\n",
    "\n",
    "// 函数调用后，julio 不再拥有玩具熊了"
   ]
  },
  {
   "attachments": {},
   "cell_type": "markdown",
   "id": "6fbbeb9a",
   "metadata": {},
   "source": [
    "2. 变量之间\n",
    "```rust\n",
    "my_cool_bear_function(/* parameter */) {\n",
    "    // Do stuff\n",
    "}\n",
    "```\n",
    "\n",
    "可以这样思考 `parameter`\n",
    "\n",
    "- 他是一个函数中的局部变量\n",
    "- 他拥有数据（他是玩具熊的所有者）\n",
    "- 他需要对玩具熊负责，在他离开作用域时，需要将玩具熊放回原处（释放玩具熊的内存）\n",
    "- 一旦数据被清除，将不会再被使用了（一旦把玩具熊放回原处，就不能继续玩玩具熊了）\n",
    "\n",
    "`julio` 将玩具熊给了别人，在函数完成时，那个人就要“回家”，同时他需要对玩具熊负责，将玩具熊放回原处，一旦玩具熊🧸被放回原处，`julio` 就不能和玩具熊玩耍啦"
   ]
  },
  {
   "attachments": {},
   "cell_type": "markdown",
   "id": "b70ae2ae",
   "metadata": {},
   "source": [
    "## Borrowing"
   ]
  },
  {
   "cell_type": "code",
   "execution_count": null,
   "id": "3afbb7c0",
   "metadata": {
    "vscode": {
     "languageId": "rust"
    }
   },
   "outputs": [],
   "source": [
    "let julio = Bear::get();\n",
    "\n",
    "my_cool_bear_function(&julio) // 注意参数中的 &\n",
    "\n",
    "/* julio 变量在函数调用之后还可以和玩具熊玩耍\n",
    "（他还是玩具熊的所有者，在函数调用时，只是将玩具熊借出去了而已） */"
   ]
  },
  {
   "attachments": {},
   "cell_type": "markdown",
   "id": "0cb7bcc6",
   "metadata": {},
   "source": [
    "如图所示：\n",
    "\n",
    "![borrowing](./asset/ownership-bear-3.png)"
   ]
  },
  {
   "attachments": {},
   "cell_type": "markdown",
   "id": "eb72f9d9",
   "metadata": {},
   "source": [
    "**所有权的规则**\n",
    "\n",
    "- Rust中每一个值/（数据）都有一个被称为所有者的变量\n",
    "- 同一时间，只能有一个所有者\n",
    "- 当所有者超出范围时，该值（数据）将被丢弃（drop）"
   ]
  },
  {
   "attachments": {},
   "cell_type": "markdown",
   "id": "d03e4204",
   "metadata": {},
   "source": [
    "## 所有权在内存中长什么样？"
   ]
  },
  {
   "attachments": {},
   "cell_type": "markdown",
   "id": "83a39b7b",
   "metadata": {},
   "source": [
    "比如如下的示例"
   ]
  },
  {
   "cell_type": "code",
   "execution_count": null,
   "id": "01e78f10",
   "metadata": {
    "vscode": {
     "languageId": "rust"
    }
   },
   "outputs": [],
   "source": [
    "let julio = \"Hi, friends\".to_string();"
   ]
  },
  {
   "attachments": {},
   "cell_type": "markdown",
   "id": "05ef0cf9",
   "metadata": {},
   "source": [
    "`\"Hi, friends\".to_string()` 将会被分配到堆上，同时在栈上保存了字符串的相关信息，比如字符串的长度、容量、和指针。\n",
    "\n",
    "如图所示：\n",
    "\n",
    "![memory](./asset/ownership/memory-1.png)"
   ]
  },
  {
   "cell_type": "code",
   "execution_count": null,
   "id": "8a6832f4",
   "metadata": {
    "vscode": {
     "languageId": "rust"
    }
   },
   "outputs": [],
   "source": [
    "let julio = \"Hi, friends\".to_string();\n",
    "let ryan = julio;"
   ]
  },
  {
   "attachments": {},
   "cell_type": "markdown",
   "id": "49e9c25b",
   "metadata": {},
   "source": [
    "此时，值/数据 的所有权就会发生转移，数据的所有者变成了 `ryan`。\n",
    "\n",
    "在其他语言中，这被称为浅拷贝，只是复制了栈上面的空间，而堆上面的空间仍然指向了同一个地方。\n",
    "\n",
    "如图所示\n",
    "\n",
    "![memory](./asset/ownership/memory-2.png)"
   ]
  },
  {
   "attachments": {},
   "cell_type": "markdown",
   "id": "aecca0c3",
   "metadata": {},
   "source": [
    "但是在 Rust 中，`julio` 将不会是数据的所有者了，因此无法对数据进行任何操作，这样避免了二次释放内存等问题。\n",
    "\n",
    "如图所示\n",
    "\n",
    "![memory](./asset/ownership/memory-3.png)"
   ]
  },
  {
   "cell_type": "code",
   "execution_count": 4,
   "id": "f0fe82c3",
   "metadata": {
    "vscode": {
     "languageId": "rust"
    }
   },
   "outputs": [],
   "source": [
    "fn mian() {\n",
    "    let julio = \"Hi, friends\".to_string();\n",
    "    let ryan = julio;\n",
    "    // println!(\"{}\", ryan);\n",
    "}"
   ]
  },
  {
   "attachments": {},
   "cell_type": "markdown",
   "id": "41d4ba1f",
   "metadata": {},
   "source": [
    "在变量离开它的作用域时，`Drop` 函数将被调用，丢弃拥有值（数据）的变量\n",
    "\n",
    "- 当到达作用域 [`{}`内] 的末尾时，Drop 函数就会被调用\n",
    "- 可以认为是一种特殊的函数，以正确释放整个对象（可能有多个指针需要释放，因此该函数具有该实现）\n",
    "- 具有 Drop trait 的类型拥有一个 Drop 函数可供调用"
   ]
  },
  {
   "attachments": {},
   "cell_type": "markdown",
   "id": "68b7598c",
   "metadata": {},
   "source": [
    "如果没有阻止`julio`访问复制的 string 数据会发生什么呢？可能会进行二次释放 D:\n",
    "\n",
    "如图所示\n",
    "\n",
    "![double free](./asset/ownership/memory-4.png)\n"
   ]
  },
  {
   "attachments": {},
   "cell_type": "markdown",
   "id": "afde1d2d",
   "metadata": {},
   "source": [
    "- 在传递所有权时，对变量进行了浅拷贝，然后使之前的无效的变量不再拥有那个数据\n",
    "- 这个无效的操作避免了二次内存释放，此外还知道其实是调用了 Drop 函数\n",
    "- 如果想要做一次深拷贝（在堆上创建一个新的相同的数据），Rust 有 `clone` 函数"
   ]
  },
  {
   "attachments": {},
   "cell_type": "markdown",
   "id": "21aac5bf",
   "metadata": {},
   "source": [
    "### clone function"
   ]
  },
  {
   "cell_type": "code",
   "execution_count": null,
   "id": "15dfe74d",
   "metadata": {
    "vscode": {
     "languageId": "rust"
    }
   },
   "outputs": [],
   "source": [
    "let julio = \"Hi, friends\".to_string();\n",
    "let ryan = julio.clone();"
   ]
  },
  {
   "attachments": {},
   "cell_type": "markdown",
   "id": "8a3b8a3f",
   "metadata": {},
   "source": [
    "上面代码的效果就是相当于将制造了一份与`julio`一样的数据，然后把它给到`ryan`\n",
    "\n",
    "如图所示\n",
    "\n",
    "![clone](./asset/ownership/clone.png)"
   ]
  },
  {
   "attachments": {},
   "cell_type": "markdown",
   "id": "df20a569",
   "metadata": {},
   "source": [
    "那么下面的代码堆区间会发生什么呢？\n",
    "\n",
    "如图所示\n",
    "\n",
    "![stack-1](./asset/ownership/stack-1.png)\n"
   ]
  },
  {
   "cell_type": "code",
   "execution_count": null,
   "id": "0e6f4008",
   "metadata": {
    "vscode": {
     "languageId": "rust"
    }
   },
   "outputs": [],
   "source": [
    "let julio = 10;\n",
    "let ryan = julio;"
   ]
  },
  {
   "attachments": {},
   "cell_type": "markdown",
   "id": "31d970c9",
   "metadata": {},
   "source": [
    "如果我们不去阻止 `julio` 访问 number 对象中副本的值，会发生什么呢？\n",
    "\n",
    "如图所示\n",
    "\n",
    "![stack](./asset/ownership/stack-2.png)\n",
    ">因为数字类型大小是确定的，只在栈分配即可，不涉及到堆空间\n",
    "\n",
    "- rust 中一些值不使用堆空间，会直接分配到栈上面（integer types, bool, etc...）\n",
    "    - 对于这些类型，一个“浅拷贝”就是一个完全的复制\n",
    "- 只需要栈空间的对象通常在变量赋值时默认进行复制\n",
    "    - 这些类型有 **Copy** trait\n",
    "        - ‘=’操作将会创建一个 copy，而不是转移所有权\n",
    "- 如果有一个 *Copy* trait，Rust 将不会让你实现 *Drop* trait\n",
    "\n",
    "如果没有 copy trait，rust将会认为是移动所有权"
   ]
  },
  {
   "attachments": {},
   "cell_type": "markdown",
   "id": "fb877631",
   "metadata": {},
   "source": [
    "### Borrowong++\n",
    "> & 背后的含义是什么？"
   ]
  },
  {
   "attachments": {},
   "cell_type": "markdown",
   "id": "274c3e02",
   "metadata": {},
   "source": [
    " **Rust中变量规则**\n",
    "\n",
    " - Rust中，默认情况下，所有数据都是不可变的\n",
    " - 你可以想象，每个实例化的变量的背后都暗藏着 `const`\n",
    " - `mut` 关键字指定变量拥有的数据可变，它就像 `const` 的相反\n",
    " - 如果更改并未声明为`mute`的变量的数据值，Rust编译器将不会编译代码"
   ]
  },
  {
   "attachments": {},
   "cell_type": "markdown",
   "id": "6e901967",
   "metadata": {},
   "source": [
    "可变变量如图所示\n",
    "\n",
    "![mutable variables](./asset/ownership/mut-var.png)\n"
   ]
  },
  {
   "attachments": {},
   "cell_type": "markdown",
   "id": "7cb10b91",
   "metadata": {},
   "source": [
    "### Borrowing 创造了一个类型"
   ]
  },
  {
   "attachments": {},
   "cell_type": "markdown",
   "id": "7aada5fe",
   "metadata": {},
   "source": [
    "如图所示\n",
    "\n",
    "![borrow](./asset/ownership/borrow-1.png)"
   ]
  },
  {
   "attachments": {},
   "cell_type": "markdown",
   "id": "bce0a283",
   "metadata": {},
   "source": [
    "### borrowing type == reference (借用的类型 == 引用)"
   ]
  },
  {
   "attachments": {},
   "cell_type": "markdown",
   "id": "8cf5e787",
   "metadata": {},
   "source": [
    "- `&` 创造了一个新的变量类型，称为对该类型的引用\n",
    "- 因为是新的变量，所以他们默认也是不可变的，他们可以被声明为可变的\n",
    "- 只有实际的变量是可变的时候，才能创建可变引用"
   ]
  },
  {
   "attachments": {},
   "cell_type": "markdown",
   "id": "5d26a809",
   "metadata": {},
   "source": [
    "以下是不可变引用和可变引用的示例"
   ]
  },
  {
   "cell_type": "code",
   "execution_count": null,
   "id": "ecf6881b",
   "metadata": {
    "vscode": {
     "languageId": "rust"
    }
   },
   "outputs": [],
   "source": [
    "let julio = Bear::get();\n",
    "let julio_reference = &julio;\n",
    "\n",
    "my_cool_bear_function(julio_reference);\n",
    "\n",
    "/* julio 变量可以在这里被使用 */"
   ]
  },
  {
   "cell_type": "code",
   "execution_count": null,
   "id": "540038a8",
   "metadata": {
    "vscode": {
     "languageId": "rust"
    }
   },
   "outputs": [],
   "source": [
    "let mut julio = Bear::get();\n",
    "let mutable_julio_reference = &mut julio;\n",
    "\n",
    "my_cool_bear_function(mutable_julio_reference);\n",
    "\n",
    "/* julio 变量可以在这里被使用 */"
   ]
  },
  {
   "attachments": {},
   "cell_type": "markdown",
   "id": "50940cc1",
   "metadata": {},
   "source": [
    "**不可变引用**\n",
    "> 下面的代码不会被编译通过"
   ]
  },
  {
   "cell_type": "code",
   "execution_count": null,
   "id": "dffea864",
   "metadata": {
    "vscode": {
     "languageId": "rust"
    }
   },
   "outputs": [],
   "source": [
    "// append_to_vector 函数接收一个向量的引用作为参数\n",
    "fn append_to_vector(lst: &Vec<u32>) {\n",
    "    lst.push(3);\n",
    "}\n",
    "\n",
    "// main 函数传递一个引用到 append_to_vector\n",
    "fn main() {\n",
    "    let mut lst = vec![1, 2, 3];\n",
    "    append_to_vector(&let)\n",
    "}"
   ]
  },
  {
   "attachments": {},
   "cell_type": "markdown",
   "id": "9db1dc39",
   "metadata": {},
   "source": [
    "**可变引用**\n",
    "> 编译通过"
   ]
  },
  {
   "cell_type": "code",
   "execution_count": null,
   "id": "2c43824b",
   "metadata": {
    "vscode": {
     "languageId": "rust"
    }
   },
   "outputs": [],
   "source": [
    "// append_to_vector 函数接收一个向量的引用作为参数， 注意 &mut\n",
    "// ⚠️ 必须是可变引用，因为向量被改变了！\n",
    "fn append_to_vector(lst: &mut Vec<u32>) {\n",
    "    lst.push(3);\n",
    "}\n",
    "\n",
    "// main 函数传递一个 *可变* 引用到 append_to_vector\n",
    "fn main() {\n",
    "    let mut lst = vec![1, 2, 3];\n",
    "    append_to_vector(&mut let);\n",
    "}"
   ]
  },
  {
   "attachments": {},
   "cell_type": "markdown",
   "id": "bd6d87a1",
   "metadata": {},
   "source": [
    "### Borrowing + References: 陷阱！"
   ]
  },
  {
   "attachments": {},
   "cell_type": "markdown",
   "id": "52b5ee78",
   "metadata": {},
   "source": [
    "我们希望两个画家都相信，他们看到的熊仔她们尝试绘画时不会改变！\n",
    "\n",
    "如图所示\n",
    "\n",
    "![borrow_reference](./asset/ownership/borrow-ref-1.png)"
   ]
  },
  {
   "cell_type": "code",
   "execution_count": null,
   "id": "81acdbce",
   "metadata": {
    "vscode": {
     "languageId": "rust"
    }
   },
   "outputs": [],
   "source": [
    "let mut bear = Bear::get();\n",
    "let pink_shirt = &bear;\n",
    "let blue_shirt = &bear;"
   ]
  },
  {
   "attachments": {},
   "cell_type": "markdown",
   "id": "85cd3d30",
   "metadata": {},
   "source": [
    "如果这时候有一个坏的派大星，获得了对小熊的可变引用，那么就会出现问题\n",
    "\n",
    "如图所示\n",
    "\n",
    "![borrow_mut_ref](./asset/ownership/borrow-ref-2.png)"
   ]
  },
  {
   "cell_type": "code",
   "execution_count": null,
   "id": "6630c14b",
   "metadata": {
    "vscode": {
     "languageId": "rust"
    }
   },
   "outputs": [],
   "source": [
    "let mut bear = Bear::get();\n",
    "let pink_shirt = &bear;\n",
    "let blue_shirt = &bear;\n",
    "let evil_patrick = &mut bear;"
   ]
  },
  {
   "attachments": {},
   "cell_type": "markdown",
   "id": "6c866411",
   "metadata": {},
   "source": [
    "### 引用规则"
   ]
  },
  {
   "attachments": {},
   "cell_type": "markdown",
   "id": "cb021788",
   "metadata": {},
   "source": [
    "- 在一个作用域内，一个变量可以有多个不可变引用。\n",
    "    - 很多画家只要知道在他们作画时没有任何人会改变那头熊，就能够画出一幅熊的图片。\n",
    "- 但是在一个作用域内，只能有一个可变引用\n",
    "    - 否则，不可变引用可能会观察到与其最初期望的数据不同的数据，或者两个可变引用的更改可能会发生冲突\n",
    "\n",
    "    > 要不就是可以有多个不可变引用，不要就是只能有一个可变引用，而且不能存在不可变引用\n",
    "\n",
    "    如图所示\n",
    "\n",
    "    ![references rules](./asset/ownership/ref-rule-1.png)\n",
    "- 注意：如果创造了一个引用，那么原始的变量会有以下情况：\n",
    "    - 如果这个引用是可变的：那么原始变量暂时无法使用\n",
    "    - 如果这个引用是不可变的：那么原始变量暂时无法更改\n",
    "\n",
    ">这样可以保证数据的一致性：\n",
    ">1. 如果有尝试写，则别的变量无法读取数据\n",
    ">2. 如果有尝试读，则别的变量无法修改数据"
   ]
  },
  {
   "attachments": {},
   "cell_type": "markdown",
   "id": "af156cbc",
   "metadata": {},
   "source": [
    "**代码示例**\n",
    "\n",
    "*避免迭代器失效*"
   ]
  },
  {
   "cell_type": "code",
   "execution_count": null,
   "id": "4bd708d6",
   "metadata": {
    "vscode": {
     "languageId": "rust"
    }
   },
   "outputs": [],
   "source": [
    "fn main() {\n",
    "    let mut v = vec![1, 2, 3];\n",
    "    /* for loop 借用了上面的向量完成工作 */\n",
    "    for i in &mut v {\n",
    "        println!(\"{}\", i);\n",
    "        v.push(34); /* 可能导致大小调整 -> 移动到新的内存 */\n",
    "    }\n",
    "}"
   ]
  },
  {
   "attachments": {},
   "cell_type": "markdown",
   "id": "55750005",
   "metadata": {},
   "source": [
    "如图所示：\n",
    "\n",
    "![iter-invalid](./asset/ownership/iter-invalid.png)"
   ]
  },
  {
   "attachments": {},
   "cell_type": "markdown",
   "id": "3a005a3b",
   "metadata": {},
   "source": [
    "## 引用总结\n",
    "\n",
    "- 通过所有权和借用规则，可以避免许多不同类型的内存错误 :D\n",
    "- 但是它们确实会导致更棘手的代码编写 -- Rust编译器将会在人写程序时进行斗争"
   ]
  }
 ],
 "metadata": {
  "kernelspec": {
   "display_name": "Rust",
   "language": "rust",
   "name": "rust"
  },
  "language_info": {
   "codemirror_mode": "rust",
   "file_extension": ".rs",
   "mimetype": "text/rust",
   "name": "Rust",
   "pygment_lexer": "rust",
   "version": ""
  }
 },
 "nbformat": 4,
 "nbformat_minor": 5
}
