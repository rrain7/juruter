{
 "cells": [
  {
   "attachments": {},
   "cell_type": "markdown",
   "metadata": {},
   "source": [
    "# Rust 中的面向对象：Traits"
   ]
  },
  {
   "attachments": {},
   "cell_type": "markdown",
   "metadata": {},
   "source": [
    "## 前言"
   ]
  },
  {
   "attachments": {},
   "cell_type": "markdown",
   "metadata": {},
   "source": [
    "**面向对象的优点**\n",
    "\n",
    "- 模块化：我们可以将一个大系统分解成可管理的组件，提供清晰的接口，并可以在隔离环境中进行测试。\n",
    "- 封装性：将相关数据和方法组合到一个单独的“对象”中。代码隐藏：不需要暴露类中与用户交互无关的部分。\n",
    "- 代码重用：想要根据输入文件使对象有所不同吗？只需向其构造函数添加一个参数，就可以得到两个不同的实现，但仅使用一个类！"
   ]
  },
  {
   "attachments": {},
   "cell_type": "markdown",
   "metadata": {},
   "source": [
    "**继承**可以重用代码\n",
    "\n",
    "如图所示\n",
    "\n",
    "<img src=\"./asset/traits/oop-bear.png\" width=\"800\" />\n",
    "\n",
    "<img src=\"./asset/traits/inheritance.png\" width=\"800\" />"
   ]
  },
  {
   "attachments": {},
   "cell_type": "markdown",
   "metadata": {},
   "source": [
    "**继承**\n",
    "\n",
    "优点\n",
    "- 通过继承，我们能够在许多不同类型的对象之间使用相同的方法实现，这些对象通过父子关系聚集在一起。\n",
    "- 子类继承所有方法和属性。（构造函数通常不计算在内，具体取决于语言）。它们可以选择覆盖父函数（绿色熊以不同方式咆哮）。\n",
    "- 这是Java等语言中的重要概念（其中所有内容都继承自一个基本Object类）。\n",
    "\n",
    "缺点\n",
    "- 对于继承树，随着时间的推移维护和更改大型代码库\n",
    "\n",
    "**其他**：\n",
    "- 对象组合\n",
    "    - 类A具有其他类类型的实例变量。\n",
    "    - 例如：想要制作多种类型的填充动物。定义“毛皮”、“羽毛”、“爪子”、“嘴巴”等内容，并将它们组合成更复杂的填充动物。\n",
    "    - 如果可能，比继承更好地实现了松散耦合。\n",
    "- 多态性\n",
    "    - 不同的底层类型/实现共享一个接口 \n",
    "    - 例如：绿色熊从（基础）熊继承“咆哮”，但是绿色熊的“咆哮”实现方式不同。"
   ]
  },
  {
   "attachments": {},
   "cell_type": "markdown",
   "metadata": {},
   "source": [
    "## Traits"
   ]
  },
  {
   "attachments": {},
   "cell_type": "markdown",
   "metadata": {},
   "source": [
    "> 我们还能用什么方式分解？\n",
    "\n",
    "如图所示：\n",
    "\n",
    "<img src=\"./asset/traits/decompose-bear.png\" width=\"800\" />"
   ]
  },
  {
   "cell_type": "code",
   "execution_count": null,
   "metadata": {},
   "outputs": [],
   "source": [
    "struct TeddyBear;\n",
    "struct RedTeddyBear;\n",
    "struct PurpleTeddyBear;\n",
    "struct GreenTeddyBear;\n",
    "\n",
    "impl TeddyBear {\n",
    "\tfn roar(&self) {\n",
    "\t\tprintln!(\"ROAR!!\");\n",
    "\t}\n",
    "}\n",
    "\n",
    "impl RedTeddyBear {\n",
    "\tfn roar(&self) {\n",
    "\t\tprintln!(\"ROAR!!\");\n",
    "\t}\n",
    "\tfn red_button_song(&self){\n",
    "\t    println!(\"RED SONG!\");\n",
    "\t}\n",
    "}\n",
    "\n",
    "impl PurpleTeddyBear {\n",
    "\tfn roar(&self) {\n",
    "\t\tprintln!(\"ROAR!!\");\n",
    "\t}\n",
    "\tfn purple_button_song(&self){\n",
    "\t    println!(\"PURPLE SONG!\");\n",
    "\t}\n",
    "}\n",
    "\n",
    "impl GreenTeddyBear {\n",
    "\tfn roar(&self) {\n",
    "\t\tprintln!(\"ROAR!!\");\n",
    "\t}\n",
    "\tfn green_button_song(&self){\n",
    "\t    println!(\"GREEN SONG!\");\n",
    "\t}\n",
    "}\n",
    "\n",
    "fn main() {\n",
    "    let bear = TeddyBear;\n",
    "    let red_bear = RedTeddyBear;\n",
    "    let green_bear = GreenTeddyBear;\n",
    "    let purple_bear = PurpleTeddyBear;\n",
    "    \n",
    "    /* They all implement roar manually */\n",
    "    bear.roar();\n",
    "    red_bear.roar();\n",
    "    green_bear.roar();\n",
    "    purple_bear.roar();\n",
    "    \n",
    "    /* Some of them implement other functions */\n",
    "    red_bear.red_button_song();\n",
    "    green_bear.green_button_song();\n",
    "    purple_bear.purple_button_song();\n",
    "}"
   ]
  },
  {
   "attachments": {},
   "cell_type": "markdown",
   "metadata": {},
   "source": [
    "可以看出，所有的熊都存在`roar`方法。\n",
    "\n",
    "可以将你想要的代码注入到一些类中（向它们注入一个 trait）\n",
    "\n",
    "如图所示：\n",
    "\n",
    "<img src=\"./asset/traits/inject-trait.png\" width=\"800\" />\n"
   ]
  },
  {
   "cell_type": "code",
   "execution_count": null,
   "metadata": {},
   "outputs": [],
   "source": [
    "struct TeddyBear;\n",
    "struct RedTeddyBear;\n",
    "struct GreenTeddyBear;\n",
    "struct PurpleTeddyBear;\n",
    "\n",
    "// 定义一个 trait\n",
    "trait Roar {\n",
    "    fn roar(&self) {\n",
    "        println!(\"ROAR!!\");\n",
    "    }\n",
    "}\n",
    "\n",
    "impl GreenTeddyBear {\n",
    "\tfn green_button_song(&self){\n",
    "\t    println!(\"GREEN SONG!\");\n",
    "\t}\n",
    "}\n",
    "\n",
    "impl RedTeddyBear {\n",
    "\tfn red_button_song(&self){\n",
    "\t    println!(\"RED SONG!\");\n",
    "\t}\n",
    "}\n",
    "\n",
    "impl PurpleTeddyBear {\n",
    "\tfn purple_button_song(&self){\n",
    "\t    println!(\"PURPLE SONG!\");\n",
    "\t}\n",
    "}\n",
    "\n",
    "impl Roar for TeddyBear {}\n",
    "impl Roar for RedTeddyBear {}\n",
    "impl Roar for GreenTeddyBear {}\n",
    "impl Roar for PurpleTeddyBear {}\n",
    "\n",
    "\n",
    "\n",
    "fn main() {\n",
    "    let bear = TeddyBear;\n",
    "    let red_bear = RedTeddyBear;\n",
    "    let green_bear = GreenTeddyBear;\n",
    "    let purple_bear = PurpleTeddyBear;\n",
    "    \n",
    "    bear.roar();\n",
    "    red_bear.roar();\n",
    "    green_bear.roar();\n",
    "    purple_bear.roar();\n",
    "    \n",
    "    red_bear.red_button_song();\n",
    "    green_bear.green_button_song();\n",
    "    purple_bear.purple_button_song();\n",
    "}"
   ]
  },
  {
   "attachments": {},
   "cell_type": "markdown",
   "metadata": {},
   "source": [
    "### 制作第一个 `trait`\n",
    "\n",
    "trait的背景：可以查看此[链接](https://blog.rust-lang.org/2015/05/11/traits.html)\n",
    "\n",
    "- 通过 `trait`，可以编写可注入到任何现有结构中的代码。（从 `TeddyBear` 类型到 `i32` 类型！）此代码可以引用 _自身_，因此该代码可能依赖于实例。\n",
    "- `Trait` 方法不需要完全定义 -- 可以定义一个函数，该函数在为类型实现`Trait` 时必须实现。（类似于Java接口）\n",
    "- `Trait` 可以指定函数/数据实例 __应具有__ 的内容，而不仅仅是从另一个“父级”获取许多内容。\n",
    "- 没有更深层次的继承层次结构了。只需思考：“这种类型是否实现了这个trait？” "
   ]
  },
  {
   "attachments": {},
   "cell_type": "markdown",
   "metadata": {},
   "source": [
    "### 大型标准 Rust 特性"
   ]
  },
  {
   "attachments": {},
   "cell_type": "markdown",
   "metadata": {},
   "source": [
    "- __`Copy`__: 使用赋值（=）时，将创建实例的新副本，而不是移动所有权。\n",
    "- __`Clone`__: 在方法上调用 `.clone()` 函数时，将返回实例的新副本。\n",
    "- __`Drop`__: 定义一种释放实例内存的方式 -- 当实例到达作用域末尾时调用。\n",
    "- __`Display`__: 定义了一种格式化类型并显示它的方式（由 `println!`使用）。\n",
    "- __`Debug`__: 类似于 Display，但不适合用户界面（适用于您调试类型！）\n",
    "- __`Eq`__: 定义了两个相同类型对象之间确定等价关系的相等性比较方式。\n",
    "- __`PartialOrd`__: 定义了比较实例（小于、大于、小于或等于等）的方法。"
   ]
  },
  {
   "attachments": {},
   "cell_type": "markdown",
   "metadata": {},
   "source": [
    "实现一个标准的 `Trait`\n",
    "\n",
    "```rs\n",
    "struct Point {\n",
    "    x: u32,\n",
    "    y: u32,\n",
    "}\n",
    "\n",
    "fn main() {\n",
    "    let pt = Point{x: 3, y: 2};\n",
    "    let pt2 = pt.clone();\n",
    "}\n",
    "```\n",
    "\n",
    "代码不会被编译，因为 `clone()` 函数没有被定义\n",
    "\n",
    "让我们注入 `Clone`\n"
   ]
  },
  {
   "cell_type": "code",
   "execution_count": 3,
   "metadata": {},
   "outputs": [
    {
     "name": "stdout",
     "output_type": "stream",
     "text": [
      "We have made two points that are the same!\n"
     ]
    },
    {
     "data": {
      "text/plain": [
       "()"
      ]
     },
     "execution_count": 3,
     "metadata": {},
     "output_type": "execute_result"
    }
   ],
   "source": [
    "use std::fmt;\n",
    "struct Point {\n",
    "    x: u32,\n",
    "    y: u32,\n",
    "}\n",
    "\n",
    "impl Clone for Point {\n",
    "    fn clone(&self) -> Point {\n",
    "        let new_pt = Point {x: self.x, y: self.y};\n",
    "        new_pt\n",
    "    }\n",
    "}\n",
    "\n",
    "fn main() {\n",
    "  let pt = Point {x:3, y:2};\n",
    "  let pt2 = pt.clone();\n",
    "  \n",
    "  if pt.x == pt2.x && pt.y == pt2.y {\n",
    "      println!(\"We have made two points that are the same!\");\n",
    "  }\n",
    "}\n",
    "\n",
    "// main()"
   ]
  },
  {
   "attachments": {},
   "cell_type": "markdown",
   "metadata": {},
   "source": [
    "- 可以将任何 `trait` 实现到任何结构体中（就像我们对 Point 实现 Clone 特性一样），只要它们是兼容的（`Drop` 与 `Copy` 不兼容）。\n",
    "- 你可以使用 [Rust 文档](https://doc.rust-lang.org/std/clone/trait.Clone.html) 来查看需要实现哪些函数以及它们的参数类型。\n",
    "- 你可以使用 #[derive(x,y,z..)] 来派生特性。如果你的结构体满足某些规则（由文档给出），Rust 编译器会尝试为你实现这些特性。例如：如果结构体中所有成员都已经实现了 Clone，那么你就可以派生 Clone。"
   ]
  },
  {
   "attachments": {},
   "cell_type": "markdown",
   "metadata": {},
   "source": [
    "### 练习"
   ]
  },
  {
   "attachments": {},
   "cell_type": "markdown",
   "metadata": {},
   "source": [
    "💡 想法：定义代表不同种类植物的类型。\n",
    "- 它们都将有自定义实现的特征，如“浇水”和“需要浇水”。\n",
    "- 还希望派生（derive）一些有用的特征，例如打印出植物当前状态以进行调试。"
   ]
  },
  {
   "cell_type": "code",
   "execution_count": null,
   "metadata": {},
   "outputs": [],
   "source": [
    "pub struct SensitivePlant {\n",
    "    last_poked: DateTime<Local>,\n",
    "    last_watered: DateTime<Local>,\n",
    "}\n",
    "\n",
    "impl SensitivePlant {\n",
    "    pub fn new() -> SensitivePlant {\n",
    "        SensitivePlant {last_poked: Local::now(), last_watered: Local::now()}\n",
    "    }\n",
    "\n",
    "    pub fn poke(&mut self) {\n",
    "        self.last_poked = Local::now();\n",
    "    }\n",
    "\n",
    "    pub fn is_open(&self) -> bool {\n",
    "        (Local::now() - self.last_poked).num_seconds() > 2\n",
    "    }\n",
    "\n",
    "    pub fn last_watered(&self) -> DateTime<Local> {\n",
    "        self.last_watered\n",
    "    }\n",
    "\n",
    "    pub fn needs_watering(&self) -> bool {\n",
    "        (Local::now() - self.last_watered) > 3\n",
    "    }\n",
    "\n",
    "    pub fn water(&mut self) {\n",
    "        self.last_watered = Local::now();\n",
    "    }\n",
    "}\n",
    "\n",
    "pub struct StringOfTurtles {\n",
    "    num_turtles: usize,\n",
    "    last_watered: DateTime<Local>,\n",
    "}\n",
    "\n",
    "impl StringOfTurtles {\n",
    "    pub fn new() -> StringOfTurtles {\n",
    "        StringOfTurtles{ num_turtles: 20, last_watered: Local::now() }\n",
    "    }\n",
    "\n",
    "    pub fn turtles(&self) -> usize {\n",
    "        self.num_turtles\n",
    "    }\n",
    "\n",
    "    pub fn last_watered(self) -> DateTime<Local> {\n",
    "        self.last_watered\n",
    "    }\n",
    "\n",
    "    pub fn needs_watering(&self) -> bool {\n",
    "        (Local::now() - self.last_watered).num_days() > 20\n",
    "    }\n",
    "\n",
    "    pub fn water(&mut self) {\n",
    "        self.last_watered = Local::now();\n",
    "    }\n",
    "}"
   ]
  },
  {
   "attachments": {},
   "cell_type": "markdown",
   "metadata": {},
   "source": [
    "1. derive Debug\n",
    "\n",
    "- 在 Rust 中打印的两种方式：\n",
    "    - `Display`：清晰、简单的表示方法，使用 `println!(\"{}\", object)`调用；\n",
    "    - `Debug`: 更详细的表示方法，用于调试，使用 `printin!(\"{:?}\", object)` 调用。\n",
    "- 如果所有成员都是 Debug，则可以 `#derive Debug`\n",
    "    - （注意：usize和DateTime是Debug）。我们该如何在这里实现呢？ \n",
    "\n",
    "```rs\n",
    "#[derive(Debug)]\n",
    "```"
   ]
  },
  {
   "attachments": {},
   "cell_type": "markdown",
   "metadata": {},
   "source": [
    "2.  functions -> traits\n",
    "\n",
    "观察上面的代码，两者有时候都需要浇水以及可以浇水。。。。，这听起来是一个很好的 trait 候选，如何实现呢？\n",
    "\n",
    "```rs\n",
    "pub trait NeedsWater {\n",
    "    // Define funtion signatures here.\n",
    "    // what function should a plane that \"drinks\" water implement?\n",
    "}\n",
    "\n",
    "\n",
    "impl /* Trait name*/ NeedsWater for /* struct type */ StringOfTurtles {\n",
    "    // what's the custom behavior for the specific type for the function that a \"NeedsWater\" plant is required to implement?\n",
    "}\n",
    "```"
   ]
  },
  {
   "cell_type": "code",
   "execution_count": null,
   "metadata": {},
   "outputs": [],
   "source": [
    "use chrono::{DateTime, Local};\n",
    "\n",
    "#[derive(Debug)]\n",
    "pub struct SensitivePlant {\n",
    "    last_poked: DateTime<Local>,\n",
    "    last_watered: DateTime<Local>,\n",
    "}\n",
    "\n",
    "#[derive(Debug)]\n",
    "pub struct StringOfTurtles {\n",
    "    num_turtles: usize,\n",
    "    last_watered: DateTime<Local>,\n",
    "}\n",
    "\n",
    "pub trait NeedsWater {\n",
    "    fn needs_watering(&self) -> bool{}\n",
    "\n",
    "    fn last_watered(&self) -> DateTime<Local> {\n",
    "        self.last_watered\n",
    "    }\n",
    "    \n",
    "    fn water(&mut self) {\n",
    "        self.last_watered = Local::now();\n",
    "    }\n",
    "}\n",
    "\n",
    "impl NeedsWater for SensitivePlant {\n",
    "    fn needs_watering(&self) -> bool {\n",
    "        (Local::now() - self.last_watered) > 3\n",
    "    }\n",
    "}\n",
    "\n",
    "impl NeedsWater for StringOfTurtles {\n",
    "    fn needs_watering(&self) -> bool {\n",
    "        (Local::now() - self.last_watered).num_days() > 20\n",
    "    }\n",
    "}\n",
    "\n",
    "impl SensitivePlant {\n",
    "    pub fn new() -> SensitivePlant {\n",
    "        SensitivePlant {last_poked: Local::now(), last_watered: Local::now()}\n",
    "    }\n",
    "\n",
    "    pub fn poke(&mut self) {\n",
    "        self.last_poked = Local::now();\n",
    "    }\n",
    "\n",
    "    pub fn is_open(&self) -> bool {\n",
    "        (Local::now() - self.last_poked).num_seconds() > 2\n",
    "    }\n",
    "}\n",
    "\n",
    "impl StringOfTurtles {\n",
    "    pub fn new() -> StringOfTurtles {\n",
    "        StringOfTurtles{ num_turtles: 20, last_watered: Local::now() }\n",
    "    }\n",
    "\n",
    "    pub fn turtles(&self) -> usize {\n",
    "        self.num_turtles\n",
    "    }\n",
    "}"
   ]
  }
 ],
 "metadata": {
  "kernelspec": {
   "display_name": "Rust",
   "language": "rust",
   "name": "rust"
  },
  "language_info": {
   "codemirror_mode": "rust",
   "file_extension": ".rs",
   "mimetype": "text/rust",
   "name": "rust",
   "pygment_lexer": "rust",
   "version": ""
  },
  "orig_nbformat": 4
 },
 "nbformat": 4,
 "nbformat_minor": 2
}
