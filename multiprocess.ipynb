{
 "cells": [
  {
   "attachments": {},
   "cell_type": "markdown",
   "metadata": {},
   "source": [
    "# 多进程"
   ]
  },
  {
   "attachments": {},
   "cell_type": "markdown",
   "metadata": {},
   "source": [
    "## 1. 多进程的陷阱"
   ]
  },
  {
   "attachments": {},
   "cell_type": "markdown",
   "metadata": {},
   "source": [
    "### `fork()`"
   ]
  },
  {
   "attachments": {},
   "cell_type": "markdown",
   "metadata": {},
   "source": [
    "什么时候会调用 `fork` 函数呢？\n",
    "-  需要并发执行\n",
    "- 调用系统上额外的函数\n"
   ]
  },
  {
   "attachments": {},
   "cell_type": "markdown",
   "metadata": {},
   "source": [
    "下面这段代码有什么问题？"
   ]
  },
  {
   "cell_type": "code",
   "execution_count": null,
   "metadata": {
    "vscode": {
     "languageId": "cpp"
    }
   },
   "outputs": [],
   "source": [
    "int createChildAndSayHey() {\n",
    "    pid_t pid = fork();\n",
    "\n",
    "    if (pid == 0) {\n",
    "        sayHey();\n",
    "        return 0;\n",
    "    }\n",
    "\n",
    "    waitpid(pid);\n",
    "}"
   ]
  },
  {
   "attachments": {},
   "cell_type": "markdown",
   "metadata": {},
   "source": [
    "- 从 `main` 函数返回，进程退出\n",
    "- 从别的函数返回，返回他的调用者\n",
    "- 子进程得到父进程的所有调用栈\n",
    "- 子进程并没有退出 —— 它正在关闭并执行可能为父进程准备的代码"
   ]
  },
  {
   "attachments": {},
   "cell_type": "markdown",
   "metadata": {},
   "source": [
    "## 2. 混淆进程和线程"
   ]
  },
  {
   "attachments": {},
   "cell_type": "markdown",
   "metadata": {},
   "source": [
    "- 与进程不同，线程会共享虚拟地址空间\n",
    "- `malloc` 是线程安全的\n",
    "    - 使用 `lock` 确保两个线程不能够并发调用 `malloc` -- 确保一个线程不能够中断另一个线程的堆区间\n",
    "- 如果父进程调用 `fork` 时，有多个活动的线程，没关系，只有一个线程将存在于子进程中（刚刚调用 fork 的那个）。\n",
    "    - fork 之后，只有一个线程在子进程中运行\n",
    "- 在调用 `fork` 时，孩子会得到所有父进程的内存的副本\n",
    "    - 包括堆栈等信息\n",
    "    - 锁的状态\n",
    "\n",
    "> 你可能确保你的代码不存在任何线程，但是\n",
    "> - 你能确保你调用的库中没有使用任何线程？\n",
    "> - 你能确保没有任何后台线程？\n",
    "\n",
    "- 实际上，如果子进程要在克隆的内存空间中做任何有意义的工作，不要将多进程与线程混合使用\n",
    "    - 在实际中，很难保证在你调用的过程中没有任何线程\n",
    "- 最大的危险往往伴随着 `fork()`\n",
    "- 如果使用多处理并发执行，把你想并发运行的代码放在**一个单独的可执行**中\n",
    "    - 使用 `exec` 调用将会「重置」虚拟内存空间\n",
    "\n"
   ]
  },
  {
   "attachments": {},
   "cell_type": "markdown",
   "metadata": {},
   "source": [
    "## 3. 为什么要分离 `fork` 和 `exec` ?"
   ]
  },
  {
   "attachments": {},
   "cell_type": "markdown",
   "metadata": {},
   "source": [
    "- Linux: 定制化 & 简单性\n",
    "    - 重新连接文件描述符？更改一些环境变量？屏蔽信号？将进程固定到特定的 CPU 核心（缓存优化）？\n",
    "    - 也许可以更加灵活？"
   ]
  },
  {
   "attachments": {},
   "cell_type": "markdown",
   "metadata": {},
   "source": [
    "## 4. 常见的多进程策略"
   ]
  },
  {
   "attachments": {},
   "cell_type": "markdown",
   "metadata": {},
   "source": [
    "- 如果有需要，`fork` & `exec` 的灵活性就在那\n",
    "- 定义/使用一个更高级的抽象去处理常见错误\n",
    "    - ex: 'subprocess'\n",
    "    - 类似于 Windows 方法，但操作系统无需涵盖所有可能的有效用例\n",
    "- 大多数这些抽象允许您重定向标准输入/输出并提供您希望在 `fork` 之后和 `exec` 之前执行的功能。"
   ]
  },
  {
   "attachments": {},
   "cell_type": "markdown",
   "metadata": {},
   "source": [
    "## 5. `pipe()`: 将会发生什么错误呢？"
   ]
  },
  {
   "attachments": {},
   "cell_type": "markdown",
   "metadata": {},
   "source": [
    "__pipe 的问题__\n",
    "- 文件描述符泄漏\n",
    "- 在错误值上面调用 `close()`\n",
    "    - 比如：\n",
    "        ```c\n",
    "        if (close(fds[1] == -1)) {\n",
    "            printf(\"Error closing!\");\n",
    "        }\n",
    "        ```\n",
    "- 提前使用了 pipe\n",
    "- 在 `close` 之后使用"
   ]
  },
  {
   "attachments": {},
   "cell_type": "markdown",
   "metadata": {},
   "source": [
    "__潜在的解决方案__\n",
    "- 定义一个 pipe 类型，而不是数字\n",
    "- 写到一个标准输入的 pipe:\n",
    "    ```rs\n",
    "    let mut child = Command::new(\"cat\")\n",
    "                .stdin(Stdio::piped())\n",
    "                .stdout(Stdio::piped())\n",
    "                .spawn()?;\n",
    "    child.stdin.as_mut().unwrap().write_all(b\"Hello, world!\\n\")?;\n",
    "    let output = child.wait_with_output()?;\n",
    "    ```"
   ]
  }
 ],
 "metadata": {
  "kernelspec": {
   "display_name": "Rust",
   "language": "rust",
   "name": "rust"
  },
  "language_info": {
   "name": "rust"
  },
  "orig_nbformat": 4
 },
 "nbformat": 4,
 "nbformat_minor": 2
}
