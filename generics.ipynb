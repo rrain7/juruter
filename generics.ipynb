{
 "cells": [
  {
   "cell_type": "markdown",
   "metadata": {},
   "source": [
    "# 范型"
   ]
  },
  {
   "attachments": {},
   "cell_type": "markdown",
   "metadata": {},
   "source": [
    "## 范型类型"
   ]
  },
  {
   "attachments": {},
   "cell_type": "markdown",
   "metadata": {},
   "source": [
    "__如何分解以下代码?__\n",
    "> 如图所示\n",
    "\n",
    "- 在传统的分解中：\n",
    "    - 将共同部分分解为一个函数\n",
    "    - 给不同的部分定义参数\n",
    "- 这里呢？\n",
    "    - 函数体相同\n",
    "    - 只有类型不同\n",
    "\n",
    "<img src=\"./asset/generics/maxs.png\" width=\"400\" />"
   ]
  },
  {
   "attachments": {},
   "cell_type": "markdown",
   "metadata": {},
   "source": [
    "__分解__: 将公共部分提取出来，创建一个带有可变部分参数的函数。这里创建类型参数\n",
    "\n",
    "```rs\n",
    "fn max<T>(x: T, y: T) -> T {\n",
    "    if x > y {x} else {y}\n",
    "}\n",
    "\n",
    "fn main() {\n",
    "    let x, y: usize = // ...\n",
    "    println!(\"Biggest: {}\", max::<usize>(x, y));\n",
    "\n",
    "    let a, b: f32 = // ...\n",
    "    println!(\"Biggest: {}\", max::<f32>(a, b));\n",
    "}\n",
    "```\n",
    "\n",
    " 或者: 让编译器根据上下文推断 T 的类型\n",
    " \n",
    " ```rs\n",
    "println!(\"Biggest: {}\", max(x, y));\n",
    "println!(\"Biggest: {}\", max(a, b));\n",
    " ```\n"
   ]
  },
  {
   "attachments": {},
   "cell_type": "markdown",
   "metadata": {},
   "source": [
    "> **Note**:\n",
    "类型参数不一定要命名为 T\n",
    "\n",
    "比如可以这样（但是不推荐）\n",
    "\n",
    "```rust\n",
    "fn max<Banana>(x: Banana, y: Banana) -> Banana {\n",
    "    if x > y {x} else {y}\n",
    "}\n",
    "```\n",
    "\n",
    "> **Note**:\n",
    "可以有多个类型参数\n",
    "\n",
    "```rust\n",
    "fn myFunction<T, R, O>(x: T, y:R) -> O {\n",
    "    // Do stuff\n",
    "    // return value of type O\n",
    "}"
   ]
  },
  {
   "attachments": {},
   "cell_type": "markdown",
   "metadata": {},
   "source": [
    "__Rust 范型没有运行时开销__\n",
    "\n",
    "- 我们为每种类型都编写了单独的函数！汇编与我们分解之前编写的代码完全相同\n",
    "- 因此：代码清理对我们没有任何成本（实际上，考虑到高级语言中更好的代码通常会带来性能成本\n",
    "\n",
    "如图所示：\n",
    "\n",
    "<img src=\"./asset/generics/runtime.png\" width=\"800\" />"
   ]
  },
  {
   "attachments": {},
   "cell_type": "markdown",
   "metadata": {},
   "source": [
    "## 如果无法处理每种类型怎么办？"
   ]
  },
  {
   "cell_type": "code",
   "execution_count": null,
   "metadata": {},
   "outputs": [],
   "source": [
    "fn max<T>(x: <T>, y: <T>) -> T {\n",
    "    if x > y {x} else {y}\n",
    "}"
   ]
  },
  {
   "attachments": {},
   "cell_type": "markdown",
   "metadata": {},
   "source": [
    "实际上，上面的代码并不会编译，报错信息如下\n",
    "\n",
    "<img src=\"./asset/generics/max_err.png\" width=\"800\" />\n"
   ]
  },
  {
   "attachments": {},
   "cell_type": "markdown",
   "metadata": {},
   "source": [
    "### Trait 绑定"
   ]
  },
  {
   "attachments": {},
   "cell_type": "markdown",
   "metadata": {},
   "source": [
    "- 我们需要将 T 限制为 _可比较类型_，即实现了 `PartialOrd` trait 的类型（该 trait 提供 <、<=、>、>= 运算符）。\n",
    "\n",
    "    ```rust\n",
    "    fn max<T: PartialOrd>(x:T, y:T) -> T {\n",
    "        if x > y {x} else (y)\n",
    "    }"
   ]
  },
  {
   "attachments": {},
   "cell_type": "markdown",
   "metadata": {},
   "source": [
    "## 范型和数据结构"
   ]
  },
  {
   "attachments": {},
   "cell_type": "markdown",
   "metadata": {},
   "source": [
    "### 数据结构也可以是泛型的！"
   ]
  },
  {
   "attachments": {},
   "cell_type": "markdown",
   "metadata": {},
   "source": [
    "- 之前，实现了 `i32` 类型的 `LinkedList`... 现在让它能够存储任何东西！\n",
    "\n",
    "如图所示:\n",
    "\n",
    "<img src=\"./asset/generics/link-generics.png\" width=\"800\" />\n"
   ]
  },
  {
   "cell_type": "code",
   "execution_count": null,
   "metadata": {},
   "outputs": [],
   "source": [
    "struct Node<T> {\n",
    "    value: T,\n",
    "    next: Option<Box<Node<T>>>,\n",
    "}\n",
    "\n",
    "struct LinkedList<T> {\n",
    "    head: Option<Box<Node<T>>>,\n",
    "    length: usize,\n",
    "}"
   ]
  },
  {
   "attachments": {},
   "cell_type": "markdown",
   "metadata": {},
   "source": [
    "你之前见过这个...在 `Option` 和 `Result` 中！\n",
    "\n",
    "<img src=\"./asset/generics/option-result.png\" width=\"800\" />\n"
   ]
  },
  {
   "attachments": {},
   "cell_type": "markdown",
   "metadata": {},
   "source": [
    "### 在范型类型上实现方法"
   ]
  },
  {
   "attachments": {},
   "cell_type": "markdown",
   "metadata": {},
   "source": [
    "```rust\n",
    "struct Node<T> {\n",
    "    value: T,\n",
    "    next: Option<Box<Node<T>>>,\n",
    "}\n",
    "\n",
    "struct LinkedList<T> {\n",
    "    head: Option<Box<Node<T>>>,\n",
    "    length: usize,\n",
    "}\n",
    "\n",
    "// 第一个 T 代表类型参数\n",
    "// `LinkedList<T>` 表示为类型<T>正在实现的方法\n",
    "impl<T> LinkedList<T> {\n",
    "    fn new() -> LinkedList<T> {\n",
    "        LinkedList{ head: None, length: 0 }\n",
    "    }\n",
    "\n",
    "    pub fn back_mut(&mut self) -> Option<Box<Node<T>>> {\n",
    "        // some implementation\n",
    "    }\n",
    "\n",
    "    pub fn push_back(&mut self, val: T) {\n",
    "        // some implementation\n",
    "    }\n",
    "}\n",
    "```\n",
    "\n",
    "编译器通常可以根据上下文推断出你使用的变量的类型\n",
    "\n",
    "如图所示:\n",
    "\n",
    "<img src=\"./asset/generics/tips.png\" width=\"600\" />\n"
   ]
  },
  {
   "attachments": {},
   "cell_type": "markdown",
   "metadata": {},
   "source": [
    "### 在 _绑定的 `trait`_ 上定义方法是有条件的"
   ]
  },
  {
   "attachments": {},
   "cell_type": "markdown",
   "metadata": {},
   "source": [
    "> 假设我们想要添加一个 `print()` 方法。我们需要 `T` 具有 `Display`，但即使 `T` 没有 `Display`，我们仍希望其他方法存在。\n",
    "\n",
    "```rust\n",
    "impl<T: Display> LinkedList<T> {\n",
    "    pub fn print(&self) {\n",
    "        let mut curr = self.front();\n",
    "        while let Some(node) = curr {\n",
    "            println!(\"{}\", node.value);\n",
    "            curr = node.next.as_ref();\n",
    "        }\n",
    "    }\n",
    "}\n",
    "\n",
    "```"
   ]
  },
  {
   "attachments": {},
   "cell_type": "markdown",
   "metadata": {},
   "source": [
    "- 这个 `LinkedList<String>` 中有 `print` 方法可用，因为 `String` 实现了 `Display` trait。\n",
    "\n",
    "    ```rust\n",
    "    fn main() {\n",
    "\n",
    "        let mut lst: LinkedList<String> = LinkedList::new();\n",
    "        lst.push_back(\"Hello world!\".to_string());\n",
    "        lst.print();\n",
    "    }\n",
    "    ```\n",
    "\n",
    "- 然而这样是行不通的。假设 `MyType` 没有实现 `display` trait，一个 `LinkedList<MyType>` 不能调用 `print` 方法。\n",
    " \n",
    "    ```rust\n",
    "    fn main() {\n",
    "        let mut lst : LinkedList<MyType> = LinkedList::new();\n",
    "        lst.push_back(MyType {});\n",
    "        lst.print();\n",
    "    }\n",
    "    ```"
   ]
  }
 ],
 "metadata": {
  "kernelspec": {
   "display_name": "Rust",
   "language": "rust",
   "name": "rust"
  },
  "language_info": {
   "codemirror_mode": "rust",
   "file_extension": ".rs",
   "mimetype": "text/rust",
   "name": "rust",
   "pygment_lexer": "rust",
   "version": ""
  },
  "orig_nbformat": 4
 },
 "nbformat": 4,
 "nbformat_minor": 2
}
